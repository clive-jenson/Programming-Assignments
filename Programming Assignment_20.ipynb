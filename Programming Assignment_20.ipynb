{
 "cells": [
  {
   "cell_type": "markdown",
   "id": "858ef79b",
   "metadata": {},
   "source": [
    "# Python Basics - Assignments\n",
    "--------------------------"
   ]
  },
  {
   "cell_type": "markdown",
   "id": "934d41de",
   "metadata": {},
   "source": [
    "## Question 1.\n",
    "-----\n",
    "### Create a function that takes a list of strings and integers, and filters out the list so that it returns a list of integers only.\n",
    "\n",
    "**Examples**\n",
    "\n",
    ">`filter_list([1, 2, 3, \"a\", \"b\", 4]) ➞ [1, 2, 3, 4]`\n",
    "\n",
    ">`filter_list([\"A\", 0, \"Edabit\", 1729, \"Python\", \"1729\"]) ➞ [0, 1729]`\n",
    "\n",
    ">`filter_list([\"Nothing\", \"here\"]) ➞ []`"
   ]
  },
  {
   "cell_type": "code",
   "execution_count": 1,
   "id": "5315a411",
   "metadata": {},
   "outputs": [],
   "source": [
    "# Checking for item type and appending in new_list\n",
    "def filter_list(l):\n",
    "    new_list = []\n",
    "    for item in l:\n",
    "        if type(item) == int:\n",
    "            new_list.append(item)\n",
    "    return new_list"
   ]
  },
  {
   "cell_type": "code",
   "execution_count": 2,
   "id": "55a0a22a",
   "metadata": {},
   "outputs": [
    {
     "name": "stdout",
     "output_type": "stream",
     "text": [
      "[1, 2, 3, 4]\n",
      "[0, 1729]\n",
      "[]\n"
     ]
    }
   ],
   "source": [
    "case1 = [1, 2, 3, \"a\", \"b\", 4] # Examples \n",
    "case2 = [\"A\", 0, \"Edabit\", 1729, \"Python\", \"1729\"]\n",
    "case3 = [\"Nothing\", \"here\"]\n",
    "\n",
    "print(filter_list(case1))\n",
    "print(filter_list(case2))\n",
    "print(filter_list(case3))"
   ]
  },
  {
   "cell_type": "markdown",
   "id": "f03cf39e",
   "metadata": {},
   "source": [
    "## Question 2.\n",
    "\n",
    "### Given a list of numbers, create a function which returns the list but with each element&#39;s index in the list added to itself. This means you add 0 to the number at index 0, add 1 to the number at index 1, etc...\n",
    "\n",
    "**Examples**\n",
    "\n",
    ">`add_indexes([0, 0, 0, 0, 0]) ➞ [0, 1, 2, 3, 4]`\n",
    "\n",
    ">`add_indexes([1, 2, 3, 4, 5]) ➞ [1, 3, 5, 7, 9]`\n",
    "\n",
    ">`add_indexes([5, 4, 3, 2, 1]) ➞ [5, 5, 5, 5, 5]`"
   ]
  },
  {
   "cell_type": "code",
   "execution_count": 3,
   "id": "88a986da",
   "metadata": {},
   "outputs": [],
   "source": [
    "# Using enumerate function to access both index and item\n",
    "def add_indexes(l):\n",
    "    li = []\n",
    "    for index, item in enumerate(l):\n",
    "        li.append(index + item)\n",
    "        \n",
    "    return li\n",
    "        "
   ]
  },
  {
   "cell_type": "code",
   "execution_count": 4,
   "id": "d131f5e4",
   "metadata": {},
   "outputs": [
    {
     "name": "stdout",
     "output_type": "stream",
     "text": [
      "[0, 1, 2, 3, 4]\n"
     ]
    },
    {
     "data": {
      "text/plain": [
       "[1, 3, 5, 7, 9]"
      ]
     },
     "execution_count": 4,
     "metadata": {},
     "output_type": "execute_result"
    }
   ],
   "source": [
    "print(add_indexes([0, 0, 0, 0, 0]))\n",
    "add_indexes([1, 2, 3, 4, 5])"
   ]
  },
  {
   "cell_type": "markdown",
   "id": "8d322cb8",
   "metadata": {},
   "source": [
    "## Question 3.\n",
    "-----\n",
    "\n",
    "### Create a function that takes the height and radius of a cone as arguments and returns the volume of the cone rounded to the nearest hundredth. See the resources tab for the formula.\n",
    "\n",
    "The volume of cone is given by the following formula: \n",
    "$$ V = \\frac{1}{3}\\pi r^{2}h$$\n",
    "\n",
    ">where h = height of cone,\n",
    "r = radius of cone\n",
    "\n",
    "\n",
    "**Examples**\n",
    "\n",
    "    cone_volume(3, 2) ➞ 12.57\n",
    "\n",
    "    cone_volume(15, 6) ➞ 565.49\n",
    "\n",
    "    cone_volume(18, 0) ➞ 0"
   ]
  },
  {
   "cell_type": "code",
   "execution_count": 6,
   "id": "6d720995",
   "metadata": {},
   "outputs": [],
   "source": [
    "# importing math function to get pi value\n",
    "import math\n",
    "\n",
    "# Function to find volume of a given cone\n",
    "def cone_volume(height, radius):\n",
    "    V = round((1/3) * math.pi * radius**2 * height,2)\n",
    "    return V\n",
    "    "
   ]
  },
  {
   "cell_type": "code",
   "execution_count": 7,
   "id": "140a1b54",
   "metadata": {},
   "outputs": [
    {
     "name": "stdout",
     "output_type": "stream",
     "text": [
      "12.57\n"
     ]
    },
    {
     "data": {
      "text/plain": [
       "565.49"
      ]
     },
     "execution_count": 7,
     "metadata": {},
     "output_type": "execute_result"
    }
   ],
   "source": [
    "print(cone_volume(3, 2))\n",
    "cone_volume(15, 6)"
   ]
  },
  {
   "cell_type": "markdown",
   "id": "420a64d7",
   "metadata": {},
   "source": [
    "## Question 4.\n",
    "\n",
    "### This Triangular Number Sequence is generated from a pattern of dots that form a triangle.The first 5 numbers of the sequence, or dots, are:\n",
    "\n",
    "`1, 3, 6, 10, 15`\n",
    "\n",
    "This means that the first triangle has just one dot, the second one has three dots, the third one\n",
    "has 6 dots and so on.\n",
    "\n",
    "### Write a function that gives the number of dots with its corresponding triangle number of the sequence.\n",
    "\n",
    "**Examples**\n",
    "\n",
    "    triangle(1) ➞ 1\n",
    "    \n",
    "    triangle(6) ➞ 21\n",
    "    \n",
    "    triangle(215) ➞ 23220"
   ]
  },
  {
   "cell_type": "code",
   "execution_count": 8,
   "id": "3223c552",
   "metadata": {},
   "outputs": [],
   "source": [
    "# triangular number sequence formula is given by n(n + 1)/2\n",
    "\n",
    "def triangle(n):\n",
    "    num_of_dots = int((n * (n + 1))/2 )\n",
    "    return num_of_dots"
   ]
  },
  {
   "cell_type": "code",
   "execution_count": 11,
   "id": "c17e5177",
   "metadata": {},
   "outputs": [
    {
     "name": "stdout",
     "output_type": "stream",
     "text": [
      "21\n"
     ]
    },
    {
     "data": {
      "text/plain": [
       "23220"
      ]
     },
     "execution_count": 11,
     "metadata": {},
     "output_type": "execute_result"
    }
   ],
   "source": [
    "print(triangle(6))\n",
    "triangle(215)\n"
   ]
  },
  {
   "cell_type": "markdown",
   "id": "c2273545",
   "metadata": {},
   "source": [
    "## Question 5.\n",
    "-------\n",
    "\n",
    "### Create a function that takes a list of numbers between 1 and 10 (excluding one number) and returns the missing number.\n",
    "\n",
    "**Examples**\n",
    "\n",
    "    missing_num([1, 2, 3, 4, 6, 7, 8, 9, 10]) ➞ 5\n",
    "    \n",
    "    missing_num([7, 2, 3, 6, 5, 9, 1, 4, 8]) ➞ 10\n",
    "    \n",
    "    missing_num([10, 5, 1, 2, 4, 6, 8, 3, 9]) ➞ 7"
   ]
  },
  {
   "cell_type": "code",
   "execution_count": 12,
   "id": "5050d5c3",
   "metadata": {},
   "outputs": [],
   "source": [
    "def missing_num(li):\n",
    "    num = [i for i in range(1,11)]\n",
    "    for i in num:\n",
    "        if i not in li:\n",
    "            return i "
   ]
  },
  {
   "cell_type": "code",
   "execution_count": 13,
   "id": "df19d9d9",
   "metadata": {},
   "outputs": [
    {
     "name": "stdout",
     "output_type": "stream",
     "text": [
      "5\n"
     ]
    },
    {
     "data": {
      "text/plain": [
       "10"
      ]
     },
     "execution_count": 13,
     "metadata": {},
     "output_type": "execute_result"
    }
   ],
   "source": [
    "print(missing_num([1, 2, 3, 4, 6, 7, 8, 9, 10]))\n",
    "missing_num([7, 2, 3, 6, 5, 9, 1, 4, 8])"
   ]
  }
 ],
 "metadata": {
  "kernelspec": {
   "display_name": "Python 3 (ipykernel)",
   "language": "python",
   "name": "python3"
  },
  "language_info": {
   "codemirror_mode": {
    "name": "ipython",
    "version": 3
   },
   "file_extension": ".py",
   "mimetype": "text/x-python",
   "name": "python",
   "nbconvert_exporter": "python",
   "pygments_lexer": "ipython3",
   "version": "3.9.7"
  }
 },
 "nbformat": 4,
 "nbformat_minor": 5
}
