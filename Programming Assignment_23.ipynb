{
 "cells": [
  {
   "cell_type": "markdown",
   "id": "52cda5e3",
   "metadata": {},
   "source": [
    "# Python Basics - Assignments\n",
    "--------------------------"
   ]
  },
  {
   "cell_type": "markdown",
   "id": "22b179b9",
   "metadata": {},
   "source": [
    "## Question 1.\n",
    "----\n",
    "### Create a function that takes a number as an argument and returns True or False depending on whether the number is symmetrical or not. A number is symmetrical when it is the same as its reverse.\n",
    "\n",
    "**Examples**\n",
    "\n",
    "    is_symmetrical(7227) ➞ True\n",
    "    \n",
    "    is_symmetrical(12567) ➞ False\n",
    "    \n",
    "    is_symmetrical(44444444) ➞ True\n",
    "    \n",
    "    is_symmetrical(9939) ➞ False\n",
    "    \n",
    "    is_symmetrical(1112111) ➞ True"
   ]
  },
  {
   "cell_type": "code",
   "execution_count": 1,
   "id": "5c76c502",
   "metadata": {},
   "outputs": [],
   "source": [
    "def is_symmetrical(num):\n",
    "    num = str(num)\n",
    "    reverse = str(num)[::-1]\n",
    "    if num == reverse:\n",
    "        return True\n",
    "    return False"
   ]
  },
  {
   "cell_type": "code",
   "execution_count": 2,
   "id": "b9636f61",
   "metadata": {},
   "outputs": [
    {
     "name": "stdout",
     "output_type": "stream",
     "text": [
      "True \n",
      "\n",
      "False\n"
     ]
    },
    {
     "data": {
      "text/plain": [
       "True"
      ]
     },
     "execution_count": 2,
     "metadata": {},
     "output_type": "execute_result"
    }
   ],
   "source": [
    "print(is_symmetrical(7227), '\\n' )\n",
    "\n",
    "print(is_symmetrical(12567))\n",
    "\n",
    "is_symmetrical(1112111)"
   ]
  },
  {
   "cell_type": "markdown",
   "id": "38c87045",
   "metadata": {},
   "source": [
    "## Question 2.\n",
    "--------\n",
    "\n",
    "### Given a string of numbers separated by a comma and space, return the product of the numbers.\n",
    "\n",
    "**Examples**\n",
    "\n",
    ">multiply_nums( &quot;2, 3&quot;) ➞ 6\n",
    "\n",
    ">multiply_nums( &quot;1, 2, 3, 4&quot;) ➞ 24\n",
    "\n",
    ">multiply_nums( &quot;54, 75, 453, 0&quot;) ➞ 0\n",
    "\n",
    ">multiply_nums( &quot;10, -2&quot;) ➞ -20\n",
    "\n",
    "\n",
    "\n",
    "\n",
    "\n"
   ]
  },
  {
   "cell_type": "code",
   "execution_count": 3,
   "id": "dab8424f",
   "metadata": {},
   "outputs": [],
   "source": [
    "def multiply_nums(st):\n",
    "    st  = st.replace(\",\", \" *\")\n",
    "    ans = eval(st)\n",
    "    return ans\n"
   ]
  },
  {
   "cell_type": "code",
   "execution_count": 4,
   "id": "c5099a2c",
   "metadata": {},
   "outputs": [
    {
     "name": "stdout",
     "output_type": "stream",
     "text": [
      "6 \n",
      "\n",
      "0\n"
     ]
    },
    {
     "data": {
      "text/plain": [
       "-20"
      ]
     },
     "execution_count": 4,
     "metadata": {},
     "output_type": "execute_result"
    }
   ],
   "source": [
    "print(multiply_nums( \"2, 3\"), '\\n' )\n",
    "\n",
    "print(multiply_nums( \"54, 75, 453, 0\"))\n",
    "\n",
    "multiply_nums( \"10, -2\") "
   ]
  },
  {
   "cell_type": "markdown",
   "id": "dc1b4a30",
   "metadata": {},
   "source": [
    "## Question 3.\n",
    "---------\n",
    "\n",
    "### Create a function that squares every digit of a number.\n",
    "\n",
    "**Examples**\n",
    "\n",
    "    square_digits(9119) ➞ 811181\n",
    "    \n",
    "    square_digits(2483) ➞ 416649\n",
    "    \n",
    "    square_digits(3212) ➞ 9414\n",
    "\n",
    "***Notes***\n",
    "\n",
    "The function receives an integer and must return an integer."
   ]
  },
  {
   "cell_type": "code",
   "execution_count": 5,
   "id": "c14bd617",
   "metadata": {},
   "outputs": [
    {
     "name": "stdout",
     "output_type": "stream",
     "text": [
      "811181"
     ]
    }
   ],
   "source": [
    "def square_digits(num):\n",
    "    li = list(str(num)) \n",
    "    for i in li:\n",
    "        print(int(i) **2, end = '')\n",
    "        \n",
    "square_digits(9119)"
   ]
  },
  {
   "cell_type": "code",
   "execution_count": 6,
   "id": "aa5d4e12",
   "metadata": {},
   "outputs": [
    {
     "name": "stdout",
     "output_type": "stream",
     "text": [
      "416649"
     ]
    }
   ],
   "source": [
    "square_digits(2483)"
   ]
  },
  {
   "cell_type": "markdown",
   "id": "9316370f",
   "metadata": {},
   "source": [
    "## Question 4.\n",
    "--------\n",
    "### Create a function that sorts a list and removes all duplicate items from it.\n",
    "\n",
    "**Examples**\n",
    "\n",
    "    setify([1, 3, 3, 5, 5]) ➞ [1, 3, 5]\n",
    "    \n",
    "    setify([4, 4, 4, 4]) ➞ [4]\n",
    "    \n",
    "    setify([5, 7, 8, 9, 10, 15]) ➞ [5, 7, 8, 9, 10, 15]\n",
    "    \n",
    "    setify([3, 3, 3, 2, 1]) ➞ [1, 2, 3]"
   ]
  },
  {
   "cell_type": "code",
   "execution_count": 7,
   "id": "61992da9",
   "metadata": {},
   "outputs": [],
   "source": [
    "def setify(li):\n",
    "    li.sort() # sorting the list\n",
    "    new_list = list(set(li)) # converting to set to get unique elements \n",
    "    return new_list"
   ]
  },
  {
   "cell_type": "code",
   "execution_count": 8,
   "id": "3d9c8e5f",
   "metadata": {},
   "outputs": [
    {
     "name": "stdout",
     "output_type": "stream",
     "text": [
      "[1, 3, 5]\n"
     ]
    },
    {
     "data": {
      "text/plain": [
       "[5, 7, 8, 9, 10, 15]"
      ]
     },
     "execution_count": 8,
     "metadata": {},
     "output_type": "execute_result"
    }
   ],
   "source": [
    "print(setify([1, 3, 3, 5, 5]))\n",
    "\n",
    "setify([5, 7, 8, 9, 10, 15])"
   ]
  },
  {
   "cell_type": "markdown",
   "id": "f56e34a1",
   "metadata": {},
   "source": [
    "## Question 5.\n",
    "--------\n",
    "### Create a function that returns the mean of all digits.\n",
    "\n",
    "**Examples**\n",
    "\n",
    ">mean(42) ➞ 3\n",
    "\n",
    ">mean(12345) ➞ 3\n",
    "\n",
    ">mean(666) ➞ 6\n",
    "\n",
    "***Notes***\n",
    "<li> The mean of all digits is the sum of digits / how many digits there are (e.g. mean of digits in\n",
    "512 is (5+1+2) / 3 {(number of digits) = 8/3=2).\n",
    "<li> The mean will always be an integer."
   ]
  },
  {
   "cell_type": "code",
   "execution_count": 9,
   "id": "92e6c886",
   "metadata": {},
   "outputs": [],
   "source": [
    "def mean(num):\n",
    "    li = list(str(num))\n",
    "    sum_of_digit = 0\n",
    "    num_length = len(li)\n",
    "    for i in li:\n",
    "        sum_of_digit += int(i)\n",
    "   \n",
    "    return int(sum_of_digit / num_length)"
   ]
  },
  {
   "cell_type": "code",
   "execution_count": 10,
   "id": "6a275189",
   "metadata": {},
   "outputs": [
    {
     "name": "stdout",
     "output_type": "stream",
     "text": [
      "2 \n",
      "\n",
      "3\n"
     ]
    },
    {
     "data": {
      "text/plain": [
       "6"
      ]
     },
     "execution_count": 10,
     "metadata": {},
     "output_type": "execute_result"
    }
   ],
   "source": [
    "print(mean(512), '\\n')\n",
    "\n",
    "print(mean(12345))\n",
    "\n",
    "mean(666)"
   ]
  }
 ],
 "metadata": {
  "kernelspec": {
   "display_name": "Python 3 (ipykernel)",
   "language": "python",
   "name": "python3"
  },
  "language_info": {
   "codemirror_mode": {
    "name": "ipython",
    "version": 3
   },
   "file_extension": ".py",
   "mimetype": "text/x-python",
   "name": "python",
   "nbconvert_exporter": "python",
   "pygments_lexer": "ipython3",
   "version": "3.9.7"
  }
 },
 "nbformat": 4,
 "nbformat_minor": 5
}
