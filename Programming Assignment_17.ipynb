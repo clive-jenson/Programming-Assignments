{
 "cells": [
  {
   "cell_type": "markdown",
   "id": "36f1d970",
   "metadata": {},
   "source": [
    "# Python Basics - Assignments\n",
    "--------------------------"
   ]
  },
  {
   "cell_type": "markdown",
   "id": "7422fbab",
   "metadata": {},
   "source": [
    "## Question 1. \n",
    "----\n",
    "### Create a function that takes three arguments a, b, c and returns the sum of the numbers that are evenly divided by c from the range a, b inclusive.\n",
    "**Example**\n",
    "\n",
    ">evenly_divisible(1, 10, 20) ➞ 0\n",
    "\n",
    "$$ \\text{No number between 1 and 10 can be evenly divided by 20.}$$\n",
    " \n",
    ">evenly_divisible(1, 10, 2) ➞ 30\n",
    "$$2 + 4 + 6 + 8 + 10 = 30$$\n",
    "\n",
    ">evenly_divisible(1, 10, 3) ➞ 18\n",
    "$$3 + 6 + 9 = 18$$"
   ]
  },
  {
   "cell_type": "code",
   "execution_count": 59,
   "id": "1e45809c",
   "metadata": {},
   "outputs": [],
   "source": [
    "def evenly_divisible(a,b,c):\n",
    "    sum_num = 0\n",
    "    \n",
    "   \n",
    "    for i in range(a,b+1):\n",
    "        if i % c == 0:\n",
    "            sum_num += i\n",
    "    if sum_num == 0:\n",
    "        return str( sum_num)  + \"\\t\" f\" - No number between {a} and {b} can be evenly divided by {c}\"\n",
    "    return sum_num"
   ]
  },
  {
   "cell_type": "code",
   "execution_count": 60,
   "id": "3ed5f14e",
   "metadata": {},
   "outputs": [
    {
     "name": "stdout",
     "output_type": "stream",
     "text": [
      "30 \n",
      "\n",
      "0\t - No number between 1 and 10 can be evenly divided by 20\n"
     ]
    }
   ],
   "source": [
    "print(evenly_divisible(1, 10, 2) , '\\n')\n",
    "print(evenly_divisible(1, 10, 20) )"
   ]
  },
  {
   "cell_type": "markdown",
   "id": "35672e5c",
   "metadata": {},
   "source": [
    "## Question 2. \n",
    "-----\n",
    "### Create a function that returns True if a given inequality expression is correct and False otherwise.\n",
    "\n",
    "**Example**\n",
    ">correct_signs(&quot;3 &lt; 7 &lt; 11&quot;) ➞ True\n",
    "\n",
    ">correct_signs(&quot;13 &gt; 44 &gt; 33 &gt; 1&quot;) ➞ False\n",
    "\n",
    ">correct_signs(&quot;1 &lt; 2 &lt; 6 &lt; 9 &gt; 3&quot;) ➞ True"
   ]
  },
  {
   "cell_type": "code",
   "execution_count": 103,
   "id": "168d4ef5",
   "metadata": {},
   "outputs": [],
   "source": [
    "def correct_signs(st):\n",
    "    expr = eval(st)\n",
    "    if expr:\n",
    "        return True\n",
    "    return False"
   ]
  },
  {
   "cell_type": "code",
   "execution_count": 105,
   "id": "532c2684",
   "metadata": {},
   "outputs": [
    {
     "name": "stdout",
     "output_type": "stream",
     "text": [
      "True\n"
     ]
    },
    {
     "data": {
      "text/plain": [
       "False"
      ]
     },
     "execution_count": 105,
     "metadata": {},
     "output_type": "execute_result"
    }
   ],
   "source": [
    "print(correct_signs(\"3 < 7 < 11\")) \n",
    "\n",
    "correct_signs(\"13 > 44 > 33 > 1\")"
   ]
  },
  {
   "cell_type": "markdown",
   "id": "05beb984",
   "metadata": {},
   "source": [
    "## Question 3. \n",
    "-----\n",
    "### Create a function that replaces all the vowels in a string with a specified character.\n",
    "**Examples**\n",
    "\n",
    ">replace_vowels(&quot;the aardvark&quot;, &quot;#&quot;) ➞ &quot;th# ##rdv#rk&quot;\n",
    "\n",
    ">replace_vowels(&quot;minnie mouse&quot;, &quot;?&quot;) ➞ &quot;m?nn?? m??s?&quot;\n",
    "\n",
    ">replace_vowels(&quot;shakespeare&quot;, &quot;*&quot;) ➞ $\\text{\"sh*k*sp**r*}$"
   ]
  },
  {
   "cell_type": "code",
   "execution_count": 90,
   "id": "bd8f0f66",
   "metadata": {},
   "outputs": [],
   "source": [
    "def replace_vowels(st, character):\n",
    "    vowels = \"aeiouAEIOU\"\n",
    "    for i in vowels:\n",
    "        st = st.replace(i, character)\n",
    "    return st\n",
    "   "
   ]
  },
  {
   "cell_type": "code",
   "execution_count": 97,
   "id": "6d8dc59f",
   "metadata": {},
   "outputs": [
    {
     "name": "stdout",
     "output_type": "stream",
     "text": [
      "th# ##rdv#rk\n"
     ]
    },
    {
     "data": {
      "text/plain": [
       "'sh*k*sp**r*'"
      ]
     },
     "execution_count": 97,
     "metadata": {},
     "output_type": "execute_result"
    }
   ],
   "source": [
    "print(replace_vowels(\"the aardvark\", \"#\"))\n",
    "\n",
    "replace_vowels(\"shakespeare\", \"*\") \n",
    "\n"
   ]
  },
  {
   "cell_type": "markdown",
   "id": "c5ddb47b",
   "metadata": {},
   "source": [
    "## Question 4. \n",
    "-----\n",
    "\n",
    "### Write a function that calculates the factorial of a number recursively.\n",
    "**Examples**\n",
    "\n",
    ">factorial(5) ➞ 120\n",
    "\n",
    ">factorial(3) ➞ 6\n",
    "\n",
    ">factorial(1) ➞ 1\n",
    "\n",
    ">factorial(0) ➞ 1"
   ]
  },
  {
   "cell_type": "code",
   "execution_count": 98,
   "id": "b0d844f8",
   "metadata": {},
   "outputs": [],
   "source": [
    "def factorial(n):\n",
    "    if n == 0 or n ==1:\n",
    "        return 1 \n",
    "    else:\n",
    "        return n * factorial(n-1)"
   ]
  },
  {
   "cell_type": "code",
   "execution_count": 102,
   "id": "8590d4ff",
   "metadata": {},
   "outputs": [
    {
     "name": "stdout",
     "output_type": "stream",
     "text": [
      "120\n"
     ]
    },
    {
     "data": {
      "text/plain": [
       "1"
      ]
     },
     "execution_count": 102,
     "metadata": {},
     "output_type": "execute_result"
    }
   ],
   "source": [
    "print(factorial(5))\n",
    "\n",
    "factorial(1)\n"
   ]
  },
  {
   "cell_type": "markdown",
   "id": "a96ed7ad",
   "metadata": {},
   "source": [
    "## Question 5\n",
    "------\n",
    "### Hamming distance is the number of characters that differ between two strings.\n",
    "To illustrate:\n",
    "\n",
    "    String1: \"abcbba\"\n",
    "\n",
    "    String2: \"abcbda\"\n",
    "\n",
    "Hamming Distance: 1 - &quot;b&quot;  vs. &quot;d&quot; is the only difference.\n",
    "\n",
    "### Create a function that computes the hamming distance between two strings.\n",
    "\n",
    "**Examples**\n",
    "\n",
    ">hamming_distance(&quot;abcde&quot;, &quot;bcdef&quot;) ➞ 5\n",
    "\n",
    ">hamming_distance(&quot;abcde&quot;, &quot;abcde&quot;) ➞ 0\n",
    "\n",
    ">hamming_distance(&quot;strong&quot;, &quot;strung&quot;) ➞ 1"
   ]
  },
  {
   "cell_type": "code",
   "execution_count": 110,
   "id": "2c3e340d",
   "metadata": {},
   "outputs": [],
   "source": [
    "def hamming_distance(st1, st2):\n",
    "    \n",
    "    ham_distance = 0\n",
    "    for i in range(len(st1)):\n",
    "        if st1[i] != st2[i]:\n",
    "            ham_distance += 1\n",
    "    return ham_distance \n",
    "                \n",
    "            "
   ]
  },
  {
   "cell_type": "code",
   "execution_count": 113,
   "id": "90fa3fe9",
   "metadata": {},
   "outputs": [
    {
     "name": "stdout",
     "output_type": "stream",
     "text": [
      "5\n"
     ]
    },
    {
     "data": {
      "text/plain": [
       "0"
      ]
     },
     "execution_count": 113,
     "metadata": {},
     "output_type": "execute_result"
    }
   ],
   "source": [
    "print(hamming_distance(\"abcde\", \"bcdef\") )\n",
    "\n",
    "hamming_distance(\"abcde\", \"abcde\") "
   ]
  }
 ],
 "metadata": {
  "kernelspec": {
   "display_name": "Python 3 (ipykernel)",
   "language": "python",
   "name": "python3"
  },
  "language_info": {
   "codemirror_mode": {
    "name": "ipython",
    "version": 3
   },
   "file_extension": ".py",
   "mimetype": "text/x-python",
   "name": "python",
   "nbconvert_exporter": "python",
   "pygments_lexer": "ipython3",
   "version": "3.9.7"
  }
 },
 "nbformat": 4,
 "nbformat_minor": 5
}
