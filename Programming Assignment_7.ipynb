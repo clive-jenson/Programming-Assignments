{
 "cells": [
  {
   "cell_type": "markdown",
   "id": "9ef8aeca",
   "metadata": {},
   "source": [
    "# Python Basics - Assignments\n",
    "--------------------------"
   ]
  },
  {
   "cell_type": "code",
   "execution_count": 1,
   "id": "27da85f6",
   "metadata": {},
   "outputs": [],
   "source": [
    "import numpy as np\n",
    "import random "
   ]
  },
  {
   "cell_type": "markdown",
   "id": "a245c649",
   "metadata": {},
   "source": [
    "### 1. Write a Python Program to find sum of array?"
   ]
  },
  {
   "cell_type": "code",
   "execution_count": 2,
   "id": "cbed5522",
   "metadata": {},
   "outputs": [
    {
     "name": "stdout",
     "output_type": "stream",
     "text": [
      "[ 0  1  2  3  4  5  6  7  8  9 10 11 12 13 14]\n",
      "105\n"
     ]
    }
   ],
   "source": [
    "# Method 1 \n",
    "\n",
    "arr = np.array([i for  i in range(0,15)])\n",
    "print(arr)\n",
    "\n",
    "print(arr.sum())"
   ]
  },
  {
   "cell_type": "code",
   "execution_count": 3,
   "id": "b2000f15",
   "metadata": {},
   "outputs": [
    {
     "name": "stdout",
     "output_type": "stream",
     "text": [
      "[26, 63, 22, 43, 20, 64]\n",
      "Sum of the given array is 238\n"
     ]
    }
   ],
   "source": [
    "# Method 2: To find sum of 6 elements in an array\n",
    "\n",
    "def array_sum(array): # Enter array elements as a list\n",
    "    \n",
    "    sum = 0\n",
    "    \n",
    "    for i in array:\n",
    "        sum = sum + i\n",
    "          \n",
    "    return \"Sum of the given array is \" + str(sum)  \n",
    "\n",
    "arr = []\n",
    "for i in range(6):\n",
    "    arr.append(random.randint(1,100))\n",
    "\n",
    "print(arr)\n",
    "print (array_sum(arr)) \n"
   ]
  },
  {
   "cell_type": "markdown",
   "id": "c8f56316",
   "metadata": {},
   "source": [
    "### 2. Write a Python Program to find largest element in an array?"
   ]
  },
  {
   "cell_type": "code",
   "execution_count": 4,
   "id": "85848bda",
   "metadata": {},
   "outputs": [
    {
     "name": "stdout",
     "output_type": "stream",
     "text": [
      "Given array is  [99, 73, 9, 18, 73, 95, 53, 98, 51, 75]\n",
      "Largest number in the given array is 99\n"
     ]
    }
   ],
   "source": [
    "# Function to find the largest number in an array\n",
    "\n",
    "def largest(arr,n):\n",
    "\n",
    "    num = arr[0] # choosing first element to check with others\n",
    "  \n",
    "    for i in range(1, n):\n",
    "        if arr[i] > num:\n",
    "            num = arr[i]\n",
    "    return num\n",
    "\n",
    "arr = []     # You can enter your own array instead of random numbers generated\n",
    "for i in range(10):\n",
    "    arr.append(random.randint(1,100))\n",
    "\n",
    "n = len(arr)\n",
    "result = largest(arr,n)\n",
    "\n",
    "print(\"Given array is \", arr)\n",
    "print (\"Largest number in the given array is\", result)\n",
    "        \n"
   ]
  },
  {
   "cell_type": "markdown",
   "id": "d314a970",
   "metadata": {},
   "source": [
    "### 3. Write a Python Program for array rotation?"
   ]
  },
  {
   "cell_type": "code",
   "execution_count": 5,
   "id": "398a0864",
   "metadata": {
    "scrolled": true
   },
   "outputs": [
    {
     "name": "stdout",
     "output_type": "stream",
     "text": [
      "[1, 2, 3, 4, 5, 6, 7, 8, 9]\n",
      "Rotated list is\n",
      "[4, 5, 6, 7, 8, 9, 1, 2, 3]\n"
     ]
    }
   ],
   "source": [
    "# To rotate an array using list slicing method\n",
    "\n",
    "def rotate_arr(arr,start,n):\n",
    "  arr[:]= arr[start:n] + arr[0:start]\n",
    "  return arr\n",
    "\n",
    "arr = [1,2,3,4,5,6,7,8,9]\n",
    "print(arr)\n",
    "\n",
    "print(\"Rotated list is\")\n",
    "print(rotate_arr(arr,3,len(arr))) "
   ]
  },
  {
   "cell_type": "markdown",
   "id": "1f689242",
   "metadata": {},
   "source": [
    "### 4. Write a Python Program to Split the array and add the first part to the end?"
   ]
  },
  {
   "cell_type": "code",
   "execution_count": 6,
   "id": "20f32397",
   "metadata": {},
   "outputs": [
    {
     "name": "stdout",
     "output_type": "stream",
     "text": [
      "[3, 4, 5, 6, 7, 8, 9, 1, 2]\n"
     ]
    }
   ],
   "source": [
    "# Using slicing method to split the array till some index and add it to the end\n",
    "def split_arr(arr, k):\n",
    "    split_part = arr[:k] # first split part\n",
    "    remaining_part = arr[k:] # second split part\n",
    "    \n",
    "    return remaining_part + split_part\n",
    "\n",
    "arr = [1,2,3,4,5,6,7,8,9]\n",
    "\n",
    "print(split_arr(arr,2))"
   ]
  },
  {
   "cell_type": "markdown",
   "id": "4c8790e6",
   "metadata": {},
   "source": [
    "### 5. Write a Python Program to check if given array is Monotonic?"
   ]
  },
  {
   "cell_type": "code",
   "execution_count": 7,
   "id": "db98fa91",
   "metadata": {},
   "outputs": [
    {
     "name": "stdout",
     "output_type": "stream",
     "text": [
      "The given array is: not monotonic\n"
     ]
    }
   ],
   "source": [
    "def monotonic_check(arr):\n",
    "  \n",
    "    if all(arr[i] <= arr[i + 1] for i in range(len(arr) - 1)):\n",
    "        x = 'Increasing'\n",
    "    elif all(arr[i] >= arr[i + 1] for i in range(len(arr) - 1)):\n",
    "        x = 'Decreasing'\n",
    "    else: \n",
    "        x = 'not monotonic'\n",
    "    return f'The given array is: {x}'\n",
    "        \n",
    "arr = [2,3,4,5,7,1]\n",
    "  \n",
    "# Result\n",
    "print(monotonic_check(arr))"
   ]
  }
 ],
 "metadata": {
  "kernelspec": {
   "display_name": "Python 3 (ipykernel)",
   "language": "python",
   "name": "python3"
  },
  "language_info": {
   "codemirror_mode": {
    "name": "ipython",
    "version": 3
   },
   "file_extension": ".py",
   "mimetype": "text/x-python",
   "name": "python",
   "nbconvert_exporter": "python",
   "pygments_lexer": "ipython3",
   "version": "3.9.7"
  }
 },
 "nbformat": 4,
 "nbformat_minor": 5
}
