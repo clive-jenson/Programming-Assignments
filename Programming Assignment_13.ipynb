{
 "cells": [
  {
   "cell_type": "markdown",
   "id": "a9e756de",
   "metadata": {},
   "source": [
    "# Python Basics - Assignments\n",
    "--------------------------"
   ]
  },
  {
   "cell_type": "markdown",
   "id": "756b2bb0",
   "metadata": {},
   "source": [
    "## Question 1:\n",
    "-----\n",
    "### Write a program that calculates and prints the value according to the given formula:\n",
    "\n",
    "$$ Q = \\sqrt{\\frac{2\\times C \\times D}{H}} $$\n",
    "\n",
    "#### Following are the fixed values of C and H: \n",
    "` C = 50, H = 30`\n",
    "\n",
    "**D** is the variable whose values should be input to your program in a comma-separated sequence.\n",
    "\n",
    "Example: \n",
    "Let us assume the following comma separated input sequence is given to the program:\n",
    "\n",
    "`100,150,180`\n",
    "\n",
    "The output of the program should be:\n",
    "\n",
    "`18,22,24`"
   ]
  },
  {
   "cell_type": "code",
   "execution_count": 1,
   "id": "00efeb17",
   "metadata": {},
   "outputs": [
    {
     "name": "stdout",
     "output_type": "stream",
     "text": [
      "Enter values in a comma-separated sequence i.e(a,b,c): 100,150,180\n",
      "18,22,24,"
     ]
    }
   ],
   "source": [
    "import math\n",
    "\n",
    "C = 50\n",
    "H = 30\n",
    "\n",
    "D = (input(\"Enter values in a comma-separated sequence i.e(a,b,c): \")).split(',')\n",
    "\n",
    "for i in D:\n",
    "    Q = math.sqrt((2*C*int(i))/H) \n",
    "    print(round(Q), end = ',')"
   ]
  },
  {
   "cell_type": "markdown",
   "id": "bf76d851",
   "metadata": {},
   "source": [
    "## Question 2:\n",
    "### Write a program which takes 2 digits, `X,Y` as input and generates a 2-dimensional array. The element value in the i-th row and j-th column of the array should be `i*j`.\n",
    "\n",
    " Note: i=0,1.., X-1; j=0,1,Y-1.\n",
    "\n",
    "Example:\n",
    "Suppose the following inputs are given to the program:\n",
    "\n",
    "`3,5`\n",
    "Then, the output of the program should be:\n",
    "\n",
    "`[[0, 0, 0, 0, 0], [0, 1, 2, 3, 4], [0, 2, 4, 6, 8]]`"
   ]
  },
  {
   "cell_type": "code",
   "execution_count": 2,
   "id": "af3c296b",
   "metadata": {},
   "outputs": [],
   "source": [
    "def arr(X,Y):\n",
    "    row = X\n",
    "    col = Y \n",
    "    array = [[0 for j in range(col)] for i in range(X)]\n",
    "    for i in range(X):\n",
    "        for j in range(Y):\n",
    "            array[i][j] = i*j\n",
    "    return array\n",
    "            "
   ]
  },
  {
   "cell_type": "code",
   "execution_count": 3,
   "id": "95831ba1",
   "metadata": {},
   "outputs": [
    {
     "data": {
      "text/plain": [
       "[[0, 0, 0, 0, 0], [0, 1, 2, 3, 4], [0, 2, 4, 6, 8]]"
      ]
     },
     "execution_count": 3,
     "metadata": {},
     "output_type": "execute_result"
    }
   ],
   "source": [
    "arr(3,5)"
   ]
  },
  {
   "cell_type": "markdown",
   "id": "cae1cbdd",
   "metadata": {},
   "source": [
    "## Question 3:\n",
    "--------\n",
    "### Write a program that accepts a comma separated sequence of words as input and prints the words in a comma-separated sequence after sorting them alphabetically.\n",
    "\n",
    "Suppose the following input is supplied to the program:\n",
    "\n",
    "`without, hello, bag, world`\n",
    "\n",
    "Then, the output should be:\n",
    "\n",
    "`bag, hello, without, world`"
   ]
  },
  {
   "cell_type": "code",
   "execution_count": 4,
   "id": "9fcfbc6f",
   "metadata": {},
   "outputs": [],
   "source": [
    "def sort_func():\n",
    "    st = input(\"Enter your words in a comma-separated sequence: \").split()\n",
    "    st.sort()\n",
    "    return ' '.join(st)"
   ]
  },
  {
   "cell_type": "code",
   "execution_count": 5,
   "id": "9a8653b2",
   "metadata": {},
   "outputs": [
    {
     "name": "stdout",
     "output_type": "stream",
     "text": [
      "Enter your words in a comma-separated sequence: without, hello, bag, world\n"
     ]
    },
    {
     "data": {
      "text/plain": [
       "'bag, hello, without, world'"
      ]
     },
     "execution_count": 5,
     "metadata": {},
     "output_type": "execute_result"
    }
   ],
   "source": [
    "sort_func()"
   ]
  },
  {
   "cell_type": "markdown",
   "id": "109eef20",
   "metadata": {},
   "source": [
    "## Question 4:\n",
    "### Write a program that accepts a sequence of whitespace separated words as input and prints the words after removing all duplicate words and sorting them alphanumerically.\n",
    "\n",
    "Suppose the following input is supplied to the program:\n",
    "\n",
    "`hello world and practice makes perfect and hello world again`\n",
    "\n",
    "Then, the output should be:\n",
    "\n",
    "`again and hello makes perfect practice world`"
   ]
  },
  {
   "cell_type": "code",
   "execution_count": 6,
   "id": "c6a247d6",
   "metadata": {},
   "outputs": [],
   "source": [
    "def sort_alphanumerical():\n",
    "    st = input(\"Enter your sentence: \")\n",
    "    l = st.split()\n",
    "    l = list(set(l))\n",
    "    l.sort()\n",
    "    \n",
    "    \n",
    "    return ' '.join(l)\n",
    "    "
   ]
  },
  {
   "cell_type": "code",
   "execution_count": 7,
   "id": "2c83cc75",
   "metadata": {},
   "outputs": [
    {
     "name": "stdout",
     "output_type": "stream",
     "text": [
      "Enter your sentence: hello world and practice makes perfect and hello world again\n"
     ]
    },
    {
     "data": {
      "text/plain": [
       "'again and hello makes perfect practice world'"
      ]
     },
     "execution_count": 7,
     "metadata": {},
     "output_type": "execute_result"
    }
   ],
   "source": [
    "sort_alphanumerical()"
   ]
  },
  {
   "cell_type": "markdown",
   "id": "eca790a9",
   "metadata": {},
   "source": [
    "## Question 5:\n",
    "---------\n",
    "### Write a program that accepts a sentence and calculate the number of letters and digits.\n",
    "\n",
    "Suppose the following input is supplied to the program:\n",
    "\n",
    "`hello world! 123`\n",
    "\n",
    "Then, the output should be:\n",
    "\n",
    "`LETTERS 10`\n",
    "\n",
    "`DIGITS 3`"
   ]
  },
  {
   "cell_type": "code",
   "execution_count": 8,
   "id": "26a39dc7",
   "metadata": {},
   "outputs": [],
   "source": [
    "def num_of_letters_digits():\n",
    "    st = input(\"Enter your sentence: \").strip() # To remove the whitespaces \n",
    "    dig = '123456789'\n",
    "    char = 'abcdefghijklmnopqrstuvwxyz'\n",
    "    LETTERS = 0\n",
    "    DIGITS = 0\n",
    "    for i in st:\n",
    "        if i in dig:\n",
    "            DIGITS += 1\n",
    "        elif i in char:\n",
    "            LETTERS += 1\n",
    "    print(f\"DIGITS = {DIGITS} \\nLETTERS = {LETTERS}\")\n"
   ]
  },
  {
   "cell_type": "code",
   "execution_count": 9,
   "id": "38a0c954",
   "metadata": {},
   "outputs": [
    {
     "name": "stdout",
     "output_type": "stream",
     "text": [
      "Enter your sentence: hello world! 123\n",
      "DIGITS = 3 \n",
      "LETTERS = 10\n"
     ]
    }
   ],
   "source": [
    "num_of_letters_digits()"
   ]
  },
  {
   "cell_type": "markdown",
   "id": "f6ca905a",
   "metadata": {},
   "source": [
    "## Question 6:\n",
    "-------\n",
    "### A website requires the users to input username and password to register. Write a program to check the validity of password input by users.\n",
    "\n",
    "Following are the criteria for checking the password:\n",
    "1. At least 1 letter between [a-z]\n",
    "2. At least 1 number between [0-9]\n",
    "1. At least 1 letter between [A-Z]\n",
    "3. At least 1 character from [$#@]\n",
    "4. Minimum length of transaction password: 6\n",
    "5. Maximum length of transaction password: 12\n",
    "\n",
    "Your program should accept a sequence of comma separated passwords and will check them\n",
    "according to the above criteria. Passwords that match the criteria are to be printed, each\n",
    "separated by a comma.\n",
    "\n",
    "Example:\n",
    "\n",
    "If the following passwords are given as input to the program:\n",
    "\n",
    "`ABd1234@1,a F1#,2w3E*,2We3345`\n",
    "\n",
    "Then, the output of the program should be:\n",
    "\n",
    "`ABd1234@1`"
   ]
  },
  {
   "cell_type": "code",
   "execution_count": 10,
   "id": "03d1036e",
   "metadata": {},
   "outputs": [
    {
     "name": "stdout",
     "output_type": "stream",
     "text": [
      "Enter yours passwords in a comma separated sequence: ABd1234@1,a F1#,2w3E*,2We3345\n",
      "ABd1234@1\n"
     ]
    }
   ],
   "source": [
    "import re\n",
    "\n",
    "user_input = input(\"Enter yours passwords in a comma separated sequence: \")\n",
    "passwords = user_input.split(\",\")\n",
    "\n",
    "valid_passwords = []\n",
    "for x in passwords:\n",
    "    \n",
    "    if len(x) < 6 or len(x) > 12:\n",
    "        continue\n",
    "\n",
    "    elif not re.search(\"([a-zA-Z])+\", x):\n",
    "        continue\n",
    "\n",
    "    elif not re.search(\"([0-9])+\", x):\n",
    "        continue\n",
    "\n",
    "    elif not re.search(\"([$#@])+\", x):\n",
    "        continue\n",
    "\n",
    "    else:\n",
    "        valid_passwords.append(x)\n",
    "\n",
    "print(' '.join(valid_passwords))"
   ]
  }
 ],
 "metadata": {
  "kernelspec": {
   "display_name": "Python 3 (ipykernel)",
   "language": "python",
   "name": "python3"
  },
  "language_info": {
   "codemirror_mode": {
    "name": "ipython",
    "version": 3
   },
   "file_extension": ".py",
   "mimetype": "text/x-python",
   "name": "python",
   "nbconvert_exporter": "python",
   "pygments_lexer": "ipython3",
   "version": "3.9.7"
  }
 },
 "nbformat": 4,
 "nbformat_minor": 5
}
