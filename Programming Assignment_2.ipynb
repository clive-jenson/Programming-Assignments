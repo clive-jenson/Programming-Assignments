{
 "cells": [
  {
   "cell_type": "markdown",
   "id": "e5083499",
   "metadata": {},
   "source": [
    "# Python Basics - Assignments\n",
    "--------------------------"
   ]
  },
  {
   "cell_type": "markdown",
   "id": "99ca3a35",
   "metadata": {},
   "source": [
    "### 1. Write a Python program to convert kilometers to miles?"
   ]
  },
  {
   "cell_type": "code",
   "execution_count": 1,
   "id": "a723eaf3",
   "metadata": {},
   "outputs": [
    {
     "name": "stdout",
     "output_type": "stream",
     "text": [
      "Enter the value in km: 43\n",
      "43.0 kilometers is equal to 26.72 miles'\n"
     ]
    }
   ],
   "source": [
    "# Solution 1 \n",
    "\n",
    "kilometers = float(input(\"Enter the value in km: \"))\n",
    "\n",
    "\"Converstion factor\"\n",
    "conversion_factor = 0.621371\n",
    "\n",
    "miles = kilometers * conversion_factor\n",
    "\n",
    "print(f\"{kilometers} kilometers is equal to {round(miles,2)} miles'\")"
   ]
  },
  {
   "cell_type": "markdown",
   "id": "a7e41a16",
   "metadata": {},
   "source": [
    "### 2. Write a Python program to convert Celsius to Fahrenheit?"
   ]
  },
  {
   "cell_type": "code",
   "execution_count": 2,
   "id": "a1d74f85",
   "metadata": {},
   "outputs": [
    {
     "name": "stdout",
     "output_type": "stream",
     "text": [
      "Enter the value in Cesius: 23\n",
      "23°C is equal to 73.4°F\n"
     ]
    }
   ],
   "source": [
    "# Solution 2 \n",
    "\n",
    "Celsius = float(input(\"Enter the value in Cesius: \"))\n",
    "\n",
    "Fahrenheit = (9/5)*Celsius + 32\n",
    "\n",
    "print(f\"{round(Celsius)}\\xb0C is equal to {round(Fahrenheit,2)}\\xb0F\")"
   ]
  },
  {
   "cell_type": "markdown",
   "id": "522f1b26",
   "metadata": {},
   "source": [
    "### 3. Write a Python program to display calendar?'\n"
   ]
  },
  {
   "cell_type": "code",
   "execution_count": 3,
   "id": "3beb2f56",
   "metadata": {},
   "outputs": [
    {
     "name": "stdout",
     "output_type": "stream",
     "text": [
      "Enter the year: 2116\n",
      "Enter the month of the year: 12\n",
      "   December 2116\n",
      "Mo Tu We Th Fr Sa Su\n",
      "    1  2  3  4  5  6\n",
      " 7  8  9 10 11 12 13\n",
      "14 15 16 17 18 19 20\n",
      "21 22 23 24 25 26 27\n",
      "28 29 30 31\n",
      "\n"
     ]
    }
   ],
   "source": [
    "# Solution 3 \n",
    "\n",
    "import calendar\n",
    "\n",
    "# Asking input from the user\n",
    "\n",
    "year = int(input(\"Enter the year: \"))\n",
    "\n",
    "month = int(input(\"Enter the month of the year: \"))\n",
    "\n",
    "print(calendar.month(year,month))"
   ]
  },
  {
   "cell_type": "markdown",
   "id": "8c90203d",
   "metadata": {},
   "source": [
    "### 4. Write a Python program to solve quadratic equation?\n",
    "\n",
    "The solution of quadratic equation is given by the formula $$x = \\frac{-b \\pm \\sqrt{b^2 - 4ac}}{2a}$$\n",
    "\n",
    "The basic stucture of a quadratic equation is \n",
    "\n",
    "$$ ax^{2} + bx + c = 0 $$\n",
    "Where,\n",
    "\n",
    "a = coefficient of $x^{2}$,\n",
    "\n",
    "b = coefficient of $x\n",
    "\n",
    "c = constant term "
   ]
  },
  {
   "cell_type": "code",
   "execution_count": 4,
   "id": "b0e84588",
   "metadata": {},
   "outputs": [
    {
     "name": "stdout",
     "output_type": "stream",
     "text": [
      "Enter value of a: 5\n",
      "Enter value of b: 8\n",
      "Enter value of c: 4\n",
      "\n",
      "\n",
      "The first root x1 =  (-0.8-0.4j)\n",
      "The second root x2 =  (-0.8+0.4j)\n"
     ]
    }
   ],
   "source": [
    "# Solution 4\n",
    "\n",
    "import math\n",
    "import cmath\n",
    "\n",
    "a = float(input('Enter value of a: ')) # a cannot be zero\n",
    "b = float(input('Enter value of b: '))\n",
    "c = float(input('Enter value of c: '))\n",
    "\n",
    "# Finding the discriminant 'd'\n",
    "\n",
    "disc = (b**2 - 4*a*c)\n",
    "\n",
    "# Two roots or solution of the quadratic equation\n",
    "if disc > 0:\n",
    "      \n",
    "    x1 = (-b - math.sqrt(disc))/(2*a)\n",
    "    x2 = (-b + math.sqrt(disc))/(2*a)\n",
    "else:\n",
    "    x1 = (-b - cmath.sqrt(disc))/(2*a)\n",
    "    x2 = (-b + cmath.sqrt(disc))/(2*a)\n",
    "    x1 = complex(round(x1.real,2),round(x1.imag,2))\n",
    "    x2 = complex(round(x2.real,2),round(x2.imag,2))\n",
    "    \n",
    "# Solution\n",
    "print('\\n')\n",
    "print(\"The first root x1 = \",x1)\n",
    "print(\"The second root x2 = \", x2)"
   ]
  },
  {
   "cell_type": "markdown",
   "id": "a188532f",
   "metadata": {},
   "source": [
    "### 5. Write a Python program to swap two variables without temp variable?"
   ]
  },
  {
   "cell_type": "code",
   "execution_count": 9,
   "id": "ba9612ff",
   "metadata": {},
   "outputs": [
    {
     "name": "stdout",
     "output_type": "stream",
     "text": [
      "Enter the first number x= 6\n",
      "Enter the second number y= 1\n",
      "\n",
      "\n",
      "x = 1\n",
      "y = 6\n"
     ]
    }
   ],
   "source": [
    "# Solution 5\n",
    "x = int(input(\"Enter the first number x= \"))\n",
    "y = int(input(\"Enter the second number y= \"))\n",
    "\n",
    "x, y = y, x\n",
    "print('\\n')\n",
    "print(\"x =\", x)\n",
    "print(\"y =\", y)"
   ]
  }
 ],
 "metadata": {
  "kernelspec": {
   "display_name": "Python 3 (ipykernel)",
   "language": "python",
   "name": "python3"
  },
  "language_info": {
   "codemirror_mode": {
    "name": "ipython",
    "version": 3
   },
   "file_extension": ".py",
   "mimetype": "text/x-python",
   "name": "python",
   "nbconvert_exporter": "python",
   "pygments_lexer": "ipython3",
   "version": "3.9.7"
  }
 },
 "nbformat": 4,
 "nbformat_minor": 5
}
