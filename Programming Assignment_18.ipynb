{
 "cells": [
  {
   "cell_type": "markdown",
   "id": "22a4de6a",
   "metadata": {},
   "source": [
    "# Python Basics - Assignments\n",
    "--------------------------"
   ]
  },
  {
   "cell_type": "markdown",
   "id": "3f73199b",
   "metadata": {},
   "source": [
    "## Question 1\n",
    "-----\n",
    "### Create a function that takes a list of non-negative integers and strings and return a new list without the strings.\n",
    "**Examples**\n",
    "\n",
    ">`filter_list([1, 2, \"a\", \"b\"]) ➞ [1, 2]`\n",
    "\n",
    ">`filter_list([1, \"a\", \"b\", 0, 15]) ➞ [1, 0, 15]`\n",
    "\n",
    ">`filter_list([1, 2, \"aasf\", \"1\",\"123\", 123]) ➞ [1, 2, 123]`"
   ]
  },
  {
   "cell_type": "code",
   "execution_count": 1,
   "id": "48a8f12c",
   "metadata": {},
   "outputs": [],
   "source": [
    "def filter_list(l):\n",
    "    return [i for i in l if type(i) == int]\n",
    "        "
   ]
  },
  {
   "cell_type": "code",
   "execution_count": 2,
   "id": "99f4e0d1",
   "metadata": {},
   "outputs": [
    {
     "name": "stdout",
     "output_type": "stream",
     "text": [
      "[1, 2] \n",
      "\n",
      "[1, 0, 15]\n"
     ]
    },
    {
     "data": {
      "text/plain": [
       "[1, 2, 123]"
      ]
     },
     "execution_count": 2,
     "metadata": {},
     "output_type": "execute_result"
    }
   ],
   "source": [
    "print(filter_list([1, 2, \"a\", \"b\"]), '\\n')\n",
    "\n",
    "print(filter_list([1, \"a\", \"b\", 0, 15]))\n",
    "\n",
    "filter_list([1, 2, \"aasf\", \"1\",\"123\", 123])"
   ]
  },
  {
   "cell_type": "markdown",
   "id": "63a34f2e",
   "metadata": {},
   "source": [
    "## Question 2\n",
    "--------\n",
    "### The &quot;Reverser&quot; takes a string as input and returns that string in reverse order, with the opposite case.\n",
    "\n",
    "**Examples**\n",
    "\n",
    ">reverse(&quot;Hello World&quot;) ➞ &quot;DLROw OLLEh&quot;\n",
    "\n",
    ">reverse(&quot;ReVeRsE&quot;) ➞ &quot;eSrEvEr&quot;\n",
    "\n",
    ">reverse(&quot;Radar&quot;) ➞ &quot;RADAr&quot;"
   ]
  },
  {
   "cell_type": "code",
   "execution_count": 3,
   "id": "0916261d",
   "metadata": {},
   "outputs": [],
   "source": [
    "def reverse(st):\n",
    "    return st[::-1].swapcase()\n",
    "    "
   ]
  },
  {
   "cell_type": "code",
   "execution_count": 4,
   "id": "f26c7efb",
   "metadata": {},
   "outputs": [
    {
     "name": "stdout",
     "output_type": "stream",
     "text": [
      "DLROw OLLEh\n"
     ]
    },
    {
     "data": {
      "text/plain": [
       "'RADAr'"
      ]
     },
     "execution_count": 4,
     "metadata": {},
     "output_type": "execute_result"
    }
   ],
   "source": [
    "print(reverse(\"Hello World\") )\n",
    "\n",
    "reverse(\"Radar\")"
   ]
  },
  {
   "cell_type": "markdown",
   "id": "ca1bbed0",
   "metadata": {},
   "source": [
    "### Question 3\n",
    "----\n",
    "\n",
    "### You can assign variables from lists like this:\n",
    "    lst = [1, 2, 3, 4, 5, 6]\n",
    "    first = lst[0]\n",
    "    middle = lst[1:-1]\n",
    "    last = lst[-1]\n",
    "    print(first) ➞ outputs 1\n",
    "    print(middle) ➞ outputs [2, 3, 4, 5]\n",
    "    print(last) ➞ outputs 6\n",
    "\n",
    "### With Python 3, you can assign variables from lists in a much more succinct way. Create variables first, middle and last from the given list using destructuring assignment\n",
    "(check the Resources tab for some examples), where:\n",
    "\n",
    ">`first ➞ 1\n",
    " >middle ➞ [2, 3, 4, 5]\n",
    " >last ➞ 6`\n",
    "\n",
    "### Your task is to unpack the list write your code here into three variables, being first, middle, and last, with middle being everything in between the first and last element. Then print all three variables."
   ]
  },
  {
   "cell_type": "code",
   "execution_count": 5,
   "id": "307acee4",
   "metadata": {},
   "outputs": [
    {
     "name": "stdout",
     "output_type": "stream",
     "text": [
      "1\n",
      "[2, 3, 4, 5]\n",
      "6\n"
     ]
    }
   ],
   "source": [
    "lst = [1, 2, 3, 4, 5, 6]\n",
    "first, middle, last = lst[0], lst[1:-1],lst[-1]\n",
    "\n",
    "print(first)\n",
    "print(middle)\n",
    "print(last)"
   ]
  },
  {
   "cell_type": "markdown",
   "id": "a57f0127",
   "metadata": {},
   "source": [
    "## Question 4\n",
    "-----\n",
    "### Write a function that calculates the factorial of a number recursively.\n",
    "**Examples**\n",
    "\n",
    "    factorial(5) ➞ 120\n",
    "\n",
    "    factorial(3) ➞ 6\n",
    "\n",
    "    factorial(1) ➞ 1\n",
    "\n",
    "    factorial(0) ➞ 1"
   ]
  },
  {
   "cell_type": "code",
   "execution_count": 6,
   "id": "e2ff9e0c",
   "metadata": {},
   "outputs": [],
   "source": [
    "def factorial(n):\n",
    "    if n == 1 or n ==0:\n",
    "        return 1\n",
    "    else:\n",
    "        return n*factorial(n -1)"
   ]
  },
  {
   "cell_type": "code",
   "execution_count": 7,
   "id": "a278e3b0",
   "metadata": {},
   "outputs": [
    {
     "name": "stdout",
     "output_type": "stream",
     "text": [
      "120\n"
     ]
    },
    {
     "data": {
      "text/plain": [
       "1"
      ]
     },
     "execution_count": 7,
     "metadata": {},
     "output_type": "execute_result"
    }
   ],
   "source": [
    "print(factorial(5))\n",
    "\n",
    "factorial(0)"
   ]
  },
  {
   "cell_type": "markdown",
   "id": "9ca57f4c",
   "metadata": {},
   "source": [
    "## Question 5\n",
    "-----\n",
    "### Write a function that moves all elements of one type to the end of the list.\n",
    "**Examples**\n",
    "\n",
    ">move_to_end([1, 3, 2, 4, 4, 1], 1) ➞ [3, 2, 4, 4, 1, 1]\n",
    "###  Move all the 1s to the end of the array.\n",
    ">move_to_end([7, 8, 9, 1, 2, 3, 4], 9) ➞ [7, 8, 1, 2, 3, 4, 9]\n",
    "\n",
    ">move_to_end([&quot;a&quot;, &quot;a&quot;, &quot;a&quot;, &quot;b&quot;], &quot;a&quot;) ➞ [&quot;b&quot;, &quot;a&quot;, &quot;a&quot;, &quot;a&quot;]"
   ]
  },
  {
   "cell_type": "code",
   "execution_count": 8,
   "id": "ae2d74a1",
   "metadata": {},
   "outputs": [],
   "source": [
    "def move_to_end(l, element):\n",
    "    for i in l:\n",
    "        if i == element:\n",
    "            l.remove(i)\n",
    "            l.append(element)\n",
    "    return l\n",
    "    \n",
    "    "
   ]
  },
  {
   "cell_type": "code",
   "execution_count": 9,
   "id": "d61fed1e",
   "metadata": {},
   "outputs": [
    {
     "name": "stdout",
     "output_type": "stream",
     "text": [
      "[7, 8, 1, 2, 3, 4, 9]\n"
     ]
    },
    {
     "data": {
      "text/plain": [
       "['b', 'a', 'a', 'a']"
      ]
     },
     "execution_count": 9,
     "metadata": {},
     "output_type": "execute_result"
    }
   ],
   "source": [
    "print(move_to_end([7, 8, 9, 1, 2, 3, 4], 9) )\n",
    "\n",
    "move_to_end([\"a\", \"a\", \"a\", \"b\"], \"a\")"
   ]
  }
 ],
 "metadata": {
  "kernelspec": {
   "display_name": "Python 3 (ipykernel)",
   "language": "python",
   "name": "python3"
  },
  "language_info": {
   "codemirror_mode": {
    "name": "ipython",
    "version": 3
   },
   "file_extension": ".py",
   "mimetype": "text/x-python",
   "name": "python",
   "nbconvert_exporter": "python",
   "pygments_lexer": "ipython3",
   "version": "3.9.7"
  }
 },
 "nbformat": 4,
 "nbformat_minor": 5
}
