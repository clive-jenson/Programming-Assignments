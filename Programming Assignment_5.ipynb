{
 "cells": [
  {
   "cell_type": "markdown",
   "id": "7f6dfd46",
   "metadata": {},
   "source": [
    "# Python Basics - Assignments\n",
    "--------------------------"
   ]
  },
  {
   "cell_type": "markdown",
   "id": "b60b980a",
   "metadata": {},
   "source": [
    "### 1. Write a Python Program to Find LCM?"
   ]
  },
  {
   "cell_type": "code",
   "execution_count": 1,
   "id": "60350a26",
   "metadata": {
    "scrolled": false
   },
   "outputs": [
    {
     "name": "stdout",
     "output_type": "stream",
     "text": [
      "Enter the first number: 36\n",
      "Enter the second number: 26\n",
      "\n",
      " LCM of 36 and 26 is  468\n"
     ]
    }
   ],
   "source": [
    "# To find LCM of given two numbers\n",
    "\n",
    "num1 = int(input(\"Enter the first number: \"))\n",
    "num2 = int(input(\"Enter the second number: \"))\n",
    "\n",
    "# To check which number is greater using max function\n",
    "\n",
    "higher = max(num1,num2)\n",
    "    \n",
    "value = higher  # To fix the greater number\n",
    "\n",
    "n = 1           # Multiplying term\n",
    "\n",
    "while True:\n",
    "    ans = value *n\n",
    "    if ans % num1 == 0 and ans % num2 == 0:\n",
    "        print(\"\\n LCM of\", num1, 'and' , num2, 'is ' , ans)\n",
    "        break\n",
    "    n += 1\n"
   ]
  },
  {
   "cell_type": "markdown",
   "id": "a12928bf",
   "metadata": {},
   "source": [
    "### 2. Write a Python Program to Find HCF?"
   ]
  },
  {
   "cell_type": "code",
   "execution_count": 2,
   "id": "51ba8e53",
   "metadata": {},
   "outputs": [
    {
     "name": "stdout",
     "output_type": "stream",
     "text": [
      "Enter the first number: 18\n",
      "Enter the second number: 96\n",
      "\n",
      " The H.C.F. of the given two numbers is 6\n"
     ]
    }
   ],
   "source": [
    "# To fing the HCF of given two numbers\n",
    "\n",
    "num1 = int(input(\"Enter the first number: \"))\n",
    "num2 = int(input(\"Enter the second number: \"))\n",
    "\n",
    "# To check which number is smaller using min function\n",
    "\n",
    "smaller = min(num1,num2)\n",
    "\n",
    "for i in range(1, smaller +1):\n",
    "    \n",
    "    if num1 % i == 0 and num2 % i == 0:\n",
    "        hcf = i\n",
    "        \n",
    "print(\"\\n The H.C.F. of the given two numbers is\", hcf)\n",
    "\n"
   ]
  },
  {
   "cell_type": "markdown",
   "id": "dbbf5ce2",
   "metadata": {},
   "source": [
    "### 3. Write a Python Program to Convert Decimal to Binary, Octal and Hexadecimal?"
   ]
  },
  {
   "cell_type": "code",
   "execution_count": 3,
   "id": "ea75589e",
   "metadata": {},
   "outputs": [
    {
     "name": "stdout",
     "output_type": "stream",
     "text": [
      "0b101101  is the binary of the given decimal\n",
      "0o55  is the octal of the given decimal\n",
      "0x2d  is the hexadecimal of the given decimal\n"
     ]
    }
   ],
   "source": [
    "def decimal(x):\n",
    "    \n",
    "    print(bin(x),\" is the binary of the given decimal\")\n",
    "    print(oct(x),\" is the octal of the given decimal\")\n",
    "    print(hex(x),\" is the hexadecimal of the given decimal\")\n",
    "\n",
    "decimal(45)"
   ]
  },
  {
   "cell_type": "markdown",
   "id": "07b8904a",
   "metadata": {},
   "source": [
    "### 4. Write a Python Program To Find ASCII value of a character?"
   ]
  },
  {
   "cell_type": "code",
   "execution_count": 4,
   "id": "c04f7b6e",
   "metadata": {},
   "outputs": [
    {
     "name": "stdout",
     "output_type": "stream",
     "text": [
      "Enter the character: s\n",
      "The ASCII value of 's' is 115\n"
     ]
    }
   ],
   "source": [
    "char = input(\"Enter the character: \") # character input as string\n",
    "\n",
    "# To find ASCII value we use ord() function \n",
    "\n",
    "print(\"The ASCII value of '\" + char + \"' is\", ord(char))"
   ]
  },
  {
   "cell_type": "markdown",
   "id": "5e33f619",
   "metadata": {},
   "source": [
    "### 5. Write a Python Program to Make a Simple Calculator with 4 basic mathematical operations?"
   ]
  },
  {
   "cell_type": "code",
   "execution_count": 5,
   "id": "66ed93d1",
   "metadata": {},
   "outputs": [],
   "source": [
    "def calculator(x,y):\n",
    "    \n",
    "    a = int(input(\"Which operation do you want to perform: \\n 1: addition \\n 2: subraction \\n 3: multiplication \\n 4: division \\n    Enter number: \"))\n",
    "    \n",
    "    if a == 1:\n",
    "        output = x+y\n",
    "    elif a == 2:\n",
    "        output = x-y\n",
    "    elif a == 3:\n",
    "        output = x*y\n",
    "    elif a == 4:\n",
    "        output = x/y\n",
    "    else:\n",
    "        print(\"Invalid Entry! Please try again\")\n",
    "    return output\n"
   ]
  },
  {
   "cell_type": "code",
   "execution_count": 6,
   "id": "65fbb3af",
   "metadata": {},
   "outputs": [
    {
     "name": "stdout",
     "output_type": "stream",
     "text": [
      "Which operation do you want to perform: \n",
      " 1: addition \n",
      " 2: subraction \n",
      " 3: multiplication \n",
      " 4: division \n",
      "    Enter number: 3\n"
     ]
    },
    {
     "data": {
      "text/plain": [
       "72"
      ]
     },
     "execution_count": 6,
     "metadata": {},
     "output_type": "execute_result"
    }
   ],
   "source": [
    "calculator(12,6)"
   ]
  },
  {
   "cell_type": "code",
   "execution_count": null,
   "id": "f597c581",
   "metadata": {},
   "outputs": [],
   "source": []
  }
 ],
 "metadata": {
  "kernelspec": {
   "display_name": "Python 3 (ipykernel)",
   "language": "python",
   "name": "python3"
  },
  "language_info": {
   "codemirror_mode": {
    "name": "ipython",
    "version": 3
   },
   "file_extension": ".py",
   "mimetype": "text/x-python",
   "name": "python",
   "nbconvert_exporter": "python",
   "pygments_lexer": "ipython3",
   "version": "3.9.7"
  }
 },
 "nbformat": 4,
 "nbformat_minor": 5
}
