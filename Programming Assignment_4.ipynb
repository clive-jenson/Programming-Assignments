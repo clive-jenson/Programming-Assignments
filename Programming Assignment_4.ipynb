{
 "cells": [
  {
   "cell_type": "markdown",
   "id": "2e01f2e2",
   "metadata": {},
   "source": [
    "# Python Basics - Assignments\n",
    "--------------------------"
   ]
  },
  {
   "cell_type": "markdown",
   "id": "36350b0e",
   "metadata": {},
   "source": [
    "### 1. Write a Python Program to Find the Factorial of a Number?"
   ]
  },
  {
   "cell_type": "code",
   "execution_count": 1,
   "id": "e270bf7e",
   "metadata": {},
   "outputs": [
    {
     "name": "stdout",
     "output_type": "stream",
     "text": [
      "The factorial of 6 is 720\n"
     ]
    }
   ],
   "source": [
    "# Solution 1 \n",
    "\n",
    "# To find factorial of 6\n",
    "\n",
    "num = 6\n",
    "factorial = 1\n",
    "\n",
    "for i in range(1,num + 1):\n",
    "       factorial *= i\n",
    "print(f\"The factorial of {num} is {factorial}\")"
   ]
  },
  {
   "cell_type": "markdown",
   "id": "3f61097c",
   "metadata": {},
   "source": [
    "### 2. Write a Python Program to Display the multiplication Table?"
   ]
  },
  {
   "cell_type": "code",
   "execution_count": 2,
   "id": "0d462e7b",
   "metadata": {},
   "outputs": [
    {
     "name": "stdout",
     "output_type": "stream",
     "text": [
      " 14 x 1 =  14\n",
      " 14 x 2 =  28\n",
      " 14 x 3 =  42\n",
      " 14 x 4 =  56\n",
      " 14 x 5 =  70\n",
      " 14 x 6 =  84\n",
      " 14 x 7 =  98\n",
      " 14 x 8 =  112\n",
      " 14 x 9 =  126\n",
      " 14 x 10 =  140\n"
     ]
    }
   ],
   "source": [
    "# Solution 2\n",
    "\n",
    "# Let's print tables from 1 to 10 for the given number\n",
    "\n",
    "num = 14 \n",
    "\n",
    "for i in range(1,11):\n",
    "    print(f\" {num} x {i} = \", num*i)\n",
    "    "
   ]
  },
  {
   "cell_type": "markdown",
   "id": "82a2b2d8",
   "metadata": {},
   "source": [
    "### 3. Write a Python Program to Print the Fibonacci sequence?"
   ]
  },
  {
   "cell_type": "code",
   "execution_count": 3,
   "id": "43dc7399",
   "metadata": {},
   "outputs": [
    {
     "name": "stdout",
     "output_type": "stream",
     "text": [
      "Enter the number of terms: 10\n",
      "The fibonacci sequence is: \n",
      "0 1 1 2 3 5 8 13 21 34 "
     ]
    }
   ],
   "source": [
    "# Solution 3\n",
    "\n",
    "# fibonacci sequence 0, 1,1,2,3,5,8,12...\n",
    "\n",
    "nterms = int(input(\"Enter the number of terms: \"))\n",
    "\n",
    "n1,n2 = 0, 1\n",
    "count = 0\n",
    "\n",
    "if nterms == 1:\n",
    "    print(n1)\n",
    "else:\n",
    "    print(\"The fibonacci sequence is: \")\n",
    "    while count< nterms:\n",
    "        print(n1, end = ' ')\n",
    "        n3 = n1 + n2\n",
    "        n1 = n2\n",
    "        n2 = n3\n",
    "        count += 1\n",
    "        \n",
    "    "
   ]
  },
  {
   "cell_type": "markdown",
   "id": "eb9029f2",
   "metadata": {},
   "source": [
    "### 4. Write a Python Program to Check Armstrong Number?"
   ]
  },
  {
   "cell_type": "code",
   "execution_count": 4,
   "id": "e5949f10",
   "metadata": {},
   "outputs": [
    {
     "name": "stdout",
     "output_type": "stream",
     "text": [
      "Enter the number of digits: 3\n",
      "Number to check : 407\n",
      "407 is an Armstrong number\n"
     ]
    }
   ],
   "source": [
    "# Solution 4 \n",
    "num_of_digits = int(input(\"Enter the number of digits: \"))\n",
    "\n",
    "num = int(input(\"Number to check : \"))\n",
    "\n",
    "output = 0\n",
    "n = num\n",
    "sum = 0\n",
    "\n",
    "while n > 0:\n",
    "    d = n % 10 \n",
    "    output += d ** num_of_digits\n",
    "    n = n // 10\n",
    "    \n",
    "\n",
    "if num == output:\n",
    "    print(num, 'is an Armstrong number')\n",
    "else:\n",
    "    print(num, 'is not an Armstrong number')"
   ]
  },
  {
   "cell_type": "markdown",
   "id": "d85e2e84",
   "metadata": {},
   "source": [
    "### 5. Write a Python Program to Find Armstrong Number in an Interval?"
   ]
  },
  {
   "cell_type": "code",
   "execution_count": 5,
   "id": "64826402",
   "metadata": {},
   "outputs": [
    {
     "name": "stdout",
     "output_type": "stream",
     "text": [
      "[153, 370, 371, 407, 1634, 8208, 9474]\n"
     ]
    }
   ],
   "source": [
    "# Solution 5\n",
    "l1 = []  \n",
    "\n",
    "l = 50       # lower bound\n",
    "u = 50000    # upper bound\n",
    "\n",
    "for num in range(l, u+1):\n",
    "    \n",
    "    ndigit = len(str(num))  # number of digits in the iterable number\n",
    "    \n",
    "    output = 0\n",
    "    a = num\n",
    "    \n",
    "    while a > 0:\n",
    "        digit = a % 10\n",
    "        output += digit ** ndigit\n",
    "        a = a // 10\n",
    "        \n",
    "        \n",
    "    if num == output:\n",
    "        l1.append(num)\n",
    "\n",
    "print(l1)\n"
   ]
  },
  {
   "cell_type": "markdown",
   "id": "1c6d5339",
   "metadata": {},
   "source": [
    "### 6. Write a Python Program to Find the Sum of Natural Numbers?"
   ]
  },
  {
   "cell_type": "code",
   "execution_count": 7,
   "id": "ecfb9978",
   "metadata": {},
   "outputs": [
    {
     "name": "stdout",
     "output_type": "stream",
     "text": [
      "Enter the number of terms: 12\n",
      "78\n"
     ]
    }
   ],
   "source": [
    "# Solution 6\n",
    "\n",
    "nterms = int(input('Enter the number of terms: ')) # Number of terms for which sum to be calculated\n",
    "\n",
    "sum = 0\n",
    "\n",
    "for i in range(nterms+1):\n",
    "    sum += i\n",
    "    \n",
    "print(sum)\n",
    "\n",
    "\n"
   ]
  }
 ],
 "metadata": {
  "kernelspec": {
   "display_name": "Python 3 (ipykernel)",
   "language": "python",
   "name": "python3"
  },
  "language_info": {
   "codemirror_mode": {
    "name": "ipython",
    "version": 3
   },
   "file_extension": ".py",
   "mimetype": "text/x-python",
   "name": "python",
   "nbconvert_exporter": "python",
   "pygments_lexer": "ipython3",
   "version": "3.9.7"
  }
 },
 "nbformat": 4,
 "nbformat_minor": 5
}
