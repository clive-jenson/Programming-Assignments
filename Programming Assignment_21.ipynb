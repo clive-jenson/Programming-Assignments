{
 "cells": [
  {
   "cell_type": "markdown",
   "id": "db967cbc",
   "metadata": {},
   "source": [
    "# Python Basics - Assignments\n",
    "--------------------------"
   ]
  },
  {
   "cell_type": "markdown",
   "id": "a477750d",
   "metadata": {},
   "source": [
    "## Question 1.\n",
    "------\n",
    "### Write a function that takes a list and a number as arguments. Add the number to the end of the list, then remove the first element of the list. \n",
    "### The function should then return the updated  list.\n",
    "\n",
    "**Examples**\n",
    "\n",
    "    next_in_line([5, 6, 7, 8, 9], 1) ➞ [6, 7, 8, 9, 1]\n",
    "    \n",
    "    next_in_line([7, 6, 3, 23, 17], 10) ➞ [6, 3, 23, 17, 10]\n",
    "    \n",
    "    next_in_line([1, 10, 20, 42 ], 6) ➞ [10, 20, 42, 6]\n",
    "    \n",
    "    next_in_line([], 6) ➞ \"No list has been selected\""
   ]
  },
  {
   "cell_type": "code",
   "execution_count": 1,
   "id": "dd087e4c",
   "metadata": {},
   "outputs": [],
   "source": [
    "def next_in_line(li, num):\n",
    "    if li == []:\n",
    "        print(\"No list has been selected\")\n",
    "    else:\n",
    "        li.append(num)\n",
    "        li.pop(0)\n",
    "    return li"
   ]
  },
  {
   "cell_type": "code",
   "execution_count": 2,
   "id": "64ccb8a1",
   "metadata": {},
   "outputs": [
    {
     "name": "stdout",
     "output_type": "stream",
     "text": [
      "[10, 20, 42, 6]\n",
      "No list has been selected\n"
     ]
    },
    {
     "data": {
      "text/plain": [
       "[]"
      ]
     },
     "execution_count": 2,
     "metadata": {},
     "output_type": "execute_result"
    }
   ],
   "source": [
    "print(next_in_line([1, 10, 20, 42 ], 6))\n",
    "\n",
    "next_in_line([], 6)"
   ]
  },
  {
   "cell_type": "markdown",
   "id": "2ae4622f",
   "metadata": {},
   "source": [
    "## Question 2.\n",
    "------\n",
    "\n",
    "\n",
    "### Create the function that takes a list of dictionaries and returns the sum of people&#39;s budgets.\n",
    "\n",
    "**Examples**\n",
    "\n",
    ">get_budgets([\n",
    "{ &quot;name&quot;: &quot;John&quot;, &quot;age&quot;: 21, &quot;budget&quot;: 23000 },\n",
    "{ &quot;name&quot;: &quot;Steve&quot;, &quot;age&quot;: 32, &quot;budget&quot;: 40000 },\n",
    "{ &quot;name&quot;: &quot;Martin&quot;, &quot;age&quot;: 16, &quot;budget&quot;: 2700 }\n",
    "]) ➞ 65700\n",
    "\n",
    ">get_budgets([\n",
    "{ &quot;name&quot;: &quot;John&quot;, &quot;age&quot;: 21, &quot;budget&quot;: 29000 },\n",
    "{ &quot;name&quot;: &quot;Steve&quot;, &quot;age&quot;: 32, &quot;budget&quot;: 32000 },\n",
    "{ &quot;name&quot;: &quot;Martin&quot;, &quot;age&quot;: 16, &quot;budget&quot;: 1600 }\n",
    "]) ➞ 62600"
   ]
  },
  {
   "cell_type": "code",
   "execution_count": 3,
   "id": "c36a0bc1",
   "metadata": {},
   "outputs": [],
   "source": [
    "# Method 1\n",
    "def get_budgets(l):\n",
    "    sum_budget = 0 \n",
    "    for i in l:\n",
    "        if type(i) == dict:\n",
    "            for j in i:\n",
    "                if j == \"budget\":\n",
    "                    sum_budget += i[j]\n",
    "            \n",
    "    return sum_budget      \n",
    "    "
   ]
  },
  {
   "cell_type": "code",
   "execution_count": 4,
   "id": "5fd11dae",
   "metadata": {},
   "outputs": [],
   "source": [
    "# Method 2 using .items()\n",
    "def get_budgets(l):\n",
    "    sum_budget = 0 \n",
    "    for i in l:\n",
    "        for j,v in i.items():\n",
    "            if j == 'budget':\n",
    "                sum_budget += v\n",
    "            \n",
    "    return sum_budget      "
   ]
  },
  {
   "cell_type": "code",
   "execution_count": 5,
   "id": "c4a3b5a8",
   "metadata": {},
   "outputs": [
    {
     "name": "stdout",
     "output_type": "stream",
     "text": [
      "65700\n"
     ]
    },
    {
     "data": {
      "text/plain": [
       "62600"
      ]
     },
     "execution_count": 5,
     "metadata": {},
     "output_type": "execute_result"
    }
   ],
   "source": [
    "print(get_budgets([ { \"name\": \"John\", \"age\": 21, \"budget\": 23000 }, { \"name\": \"Steve\", \"age\": 32, \"budget\": 40000 }, { \"name\": \"Martin\", \"age\": 16, \"budget\": 2700 } ]))\n",
    "\n",
    "get_budgets([ { \"name\": \"John\", \"age\": 21, \"budget\": 29000 }, { \"name\": \"Steve\", \"age\": 32, \"budget\": 32000 }, { \"name\": \"Martin\", \"age\": 16, \"budget\": 1600 } ])"
   ]
  },
  {
   "cell_type": "markdown",
   "id": "8bb8d114",
   "metadata": {},
   "source": [
    "## Question 3.\n",
    "---------\n",
    "### Create a function that takes a string and returns a string with its letters in alphabetical order.\n",
    "\n",
    "**Examples**\n",
    "\n",
    ">alphabet_soup(&quot;hello&quot;) ➞ &quot;ehllo&quot;\n",
    "\n",
    ">alphabet_soup(&quot;edabit&quot;) ➞ &quot;abdeit&quot;\n",
    "\n",
    ">alphabet_soup(&quot;hacker&quot;) ➞ &quot;acehkr&quot;\n",
    "\n",
    ">alphabet_soup(&quot;geek&quot;) ➞ &quot;eegk&quot;\n",
    "\n",
    ">alphabet_soup(&quot;javascript&quot;) ➞ &quot;aacijprstv&quot;"
   ]
  },
  {
   "cell_type": "code",
   "execution_count": 6,
   "id": "e682dc31",
   "metadata": {},
   "outputs": [],
   "source": [
    "def alphabet_soup(s):\n",
    "    li = []\n",
    "    for i in s:\n",
    "        li.append(i)\n",
    "    li.sort()\n",
    "    output = ''.join(li)\n",
    "    return output\n",
    "        \n",
    "    "
   ]
  },
  {
   "cell_type": "code",
   "execution_count": 7,
   "id": "8187f6b3",
   "metadata": {},
   "outputs": [
    {
     "name": "stdout",
     "output_type": "stream",
     "text": [
      "abdeit \n",
      "\n",
      "acehkr\n"
     ]
    },
    {
     "data": {
      "text/plain": [
       "'aacijprstv'"
      ]
     },
     "execution_count": 7,
     "metadata": {},
     "output_type": "execute_result"
    }
   ],
   "source": [
    "print(alphabet_soup(\"edabit\") , \"\\n\")\n",
    "\n",
    "print(alphabet_soup(\"hacker\"))\n",
    "\n",
    "alphabet_soup(\"javascript\")"
   ]
  },
  {
   "cell_type": "markdown",
   "id": "f047ada9",
   "metadata": {},
   "source": [
    "## Question 4.\n",
    "----\n",
    "\n",
    "### Suppose that you invest $10,000 for 10 years at an interest rate of 6% compounded monthly. What will be the value of your investment at the end of the 10 year period?\n",
    "\n",
    "### Create a function that accepts the principal p, the term in years t, the interest rate r, and the number of compounding periods per year n. The function returns the value at the end of term rounded to the nearest cent.\n",
    "\n",
    "**For the example above:**\n",
    "\n",
    ">compound_interest(10000, 10, 0.06, 12) ➞ 18193.97\n",
    "\n",
    "Note that the interest rate is given as a decimal and n=12 because with monthly compounding\n",
    "there are 12 periods per year. Compounding can also be done annually, quarterly, weekly, or\n",
    "daily.\n",
    "\n",
    ">The formula for compound interest is given by\n",
    "\n",
    "$$ A = P(1 + \\frac{r}{n})^{nt}$$\n",
    "**Examples**\n",
    "\n",
    "    compound_interest(100, 1, 0.05, 1) ➞ 105.0\n",
    "\n",
    "    compound_interest(3500, 15, 0.1, 4) ➞ 15399.26\n",
    "\n",
    "    compound_interest(100000, 20, 0.15, 365) ➞ 2007316.26"
   ]
  },
  {
   "cell_type": "code",
   "execution_count": 8,
   "id": "4192b783",
   "metadata": {},
   "outputs": [],
   "source": [
    "def compound_interest(p, t, r, n):\n",
    "    A  = p * ( 1 + (r/n))**(n*t)\n",
    "    return round(A, 2)\n",
    "\n",
    "\n",
    "    "
   ]
  },
  {
   "cell_type": "code",
   "execution_count": 9,
   "id": "832e5bd7",
   "metadata": {},
   "outputs": [
    {
     "name": "stdout",
     "output_type": "stream",
     "text": [
      "105.0 \n",
      "\n",
      "15399.26\n"
     ]
    },
    {
     "data": {
      "text/plain": [
       "2007316.26"
      ]
     },
     "execution_count": 9,
     "metadata": {},
     "output_type": "execute_result"
    }
   ],
   "source": [
    "print(compound_interest(100, 1, 0.05, 1), \"\\n\")\n",
    "\n",
    "print(compound_interest(3500, 15, 0.1, 4))\n",
    "\n",
    "compound_interest(100000, 20, 0.15, 365)"
   ]
  },
  {
   "cell_type": "markdown",
   "id": "53cc8604",
   "metadata": {},
   "source": [
    "## Question 5.\n",
    "-----\n",
    "\n",
    "### Write a function that takes a list of elements and returns only the integers.\n",
    "\n",
    "**Examples**\n",
    "\n",
    "    return_only_integer([9, 2, \"space\", \"car\", \"lion\", 16]) ➞ [9, 2, 16]\n",
    "    \n",
    "    return_only_integer([\"hello\", 81, \"basketball\", 123, \"fox\"]) ➞ [81, 123]\n",
    "    \n",
    "    return_only_integer([10, \"121\", 56, 20, \"car\", 3, \"lion\"]) ➞ [10, 56, 20,3]\n",
    "    \n",
    "    return_only_integer([\"String\", True, 3.3, 1]) ➞ [1]"
   ]
  },
  {
   "cell_type": "code",
   "execution_count": 10,
   "id": "fdd72846",
   "metadata": {},
   "outputs": [],
   "source": [
    "def return_only_integer(li):\n",
    "    return [i for i in li if type(i) == int]"
   ]
  },
  {
   "cell_type": "code",
   "execution_count": 11,
   "id": "c59c1455",
   "metadata": {},
   "outputs": [
    {
     "name": "stdout",
     "output_type": "stream",
     "text": [
      "[9, 2, 16]\n",
      "[81, 123]\n"
     ]
    },
    {
     "data": {
      "text/plain": [
       "[10, 56, 20, 3]"
      ]
     },
     "execution_count": 11,
     "metadata": {},
     "output_type": "execute_result"
    }
   ],
   "source": [
    "print(return_only_integer([9, 2, \"space\", \"car\", \"lion\", 16]))\n",
    "\n",
    "print(return_only_integer([\"hello\", 81, \"basketball\", 123, \"fox\"]))\n",
    "\n",
    "return_only_integer([10, \"121\", 56, 20, \"car\", 3, \"lion\"])"
   ]
  }
 ],
 "metadata": {
  "kernelspec": {
   "display_name": "Python 3 (ipykernel)",
   "language": "python",
   "name": "python3"
  },
  "language_info": {
   "codemirror_mode": {
    "name": "ipython",
    "version": 3
   },
   "file_extension": ".py",
   "mimetype": "text/x-python",
   "name": "python",
   "nbconvert_exporter": "python",
   "pygments_lexer": "ipython3",
   "version": "3.9.7"
  }
 },
 "nbformat": 4,
 "nbformat_minor": 5
}
