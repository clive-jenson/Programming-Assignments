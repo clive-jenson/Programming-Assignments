{
 "cells": [
  {
   "cell_type": "markdown",
   "id": "a554caf8",
   "metadata": {},
   "source": [
    "# Python Basics - Assignments\n",
    "--------------------------"
   ]
  },
  {
   "cell_type": "markdown",
   "id": "2e6085bb",
   "metadata": {},
   "source": [
    "## Question 1.\n",
    "-----\n",
    "### Create a function that takes a string and returns a string in which each character is repeated twice.\n",
    "\n",
    "**Examples**\n",
    ">double_char(&quot;String&quot;) ➞ &quot;SSttrriinngg&quot;\n",
    "\n",
    ">double_char(&quot;Hello World!&quot;) ➞ &quot;HHeelllloo WWoorrlldd!!&quot;\n",
    "\n",
    ">double_char(&quot;1234!_ &quot;) ➞ &quot;11223344!!__ &quot;"
   ]
  },
  {
   "cell_type": "code",
   "execution_count": 1,
   "id": "6dd90b9b",
   "metadata": {},
   "outputs": [],
   "source": [
    "def double_char(st):\n",
    "    li = []\n",
    "    for i in st:\n",
    "        li.append(i+i)\n",
    "    return ''.join(li)\n"
   ]
  },
  {
   "cell_type": "code",
   "execution_count": 2,
   "id": "4b5bbd25",
   "metadata": {},
   "outputs": [
    {
     "name": "stdout",
     "output_type": "stream",
     "text": [
      "SSttrriinngg \n",
      "\n",
      "HHeelllloo  WWoorrlldd!!\n"
     ]
    },
    {
     "data": {
      "text/plain": [
       "'11223344!!__  '"
      ]
     },
     "execution_count": 2,
     "metadata": {},
     "output_type": "execute_result"
    }
   ],
   "source": [
    "print(double_char(\"String\"), '\\n')\n",
    "print(double_char(\"Hello World!\"))\n",
    "double_char(\"1234!_ \")"
   ]
  },
  {
   "cell_type": "markdown",
   "id": "47628d4e",
   "metadata": {},
   "source": [
    "## Question 2.\n",
    "-------\n",
    "### Create a function that reverses a boolean value and returns the string &quot;boolean expected&quot;if another variable type is given.\n",
    "\n",
    "**Examples**\n",
    "\n",
    ">reverse(True) ➞ False\n",
    "\n",
    ">reverse(False) ➞ True\n",
    "\n",
    ">reverse(0) ➞ &quot;boolean expected&quot;\n",
    "\n",
    ">reverse(None) ➞ &quot;boolean expected&quot;"
   ]
  },
  {
   "cell_type": "code",
   "execution_count": 3,
   "id": "1cf3cd1f",
   "metadata": {},
   "outputs": [],
   "source": [
    "def reverse(booleantype):\n",
    "    if booleantype == str(0) or booleantype == None:\n",
    "        return 'Boolean expected'\n",
    "    else:\n",
    "        return not booleantype\n",
    "    "
   ]
  },
  {
   "cell_type": "code",
   "execution_count": 4,
   "id": "edee3596",
   "metadata": {
    "scrolled": true
   },
   "outputs": [
    {
     "name": "stdout",
     "output_type": "stream",
     "text": [
      "False \n",
      "\n",
      "True\n"
     ]
    },
    {
     "data": {
      "text/plain": [
       "'Boolean expected'"
      ]
     },
     "execution_count": 4,
     "metadata": {},
     "output_type": "execute_result"
    }
   ],
   "source": [
    "print(reverse(True), '\\n')\n",
    "\n",
    "print(reverse(False))\n",
    "\n",
    "reverse(None)"
   ]
  },
  {
   "cell_type": "markdown",
   "id": "f2176356",
   "metadata": {},
   "source": [
    "## Question 3.\n",
    "------\n",
    "### Create a function that returns the thickness (in meters) of a piece of paper after folding it n number of times. The paper starts off with a thickness of 0.5mm.\n",
    "\n",
    "**Examples**\n",
    "\n",
    ">num_layers(1) ➞ &quot;0.001m&quot;\n",
    "\n",
    "Paper folded once is 1mm (equal to 0.001m)\n",
    ">num_layers(4) ➞ &quot;0.008m&quot;\n",
    "\n",
    "Paper folded 4 times is 8mm (equal to 0.008m)\n",
    ">num_layers(21) ➞ &quot;1048.576m&quot;\n",
    "\n",
    "Paper folded 21 times is 1048576mm (equal to 1048.576m)"
   ]
  },
  {
   "cell_type": "code",
   "execution_count": 5,
   "id": "ea1381d1",
   "metadata": {},
   "outputs": [],
   "source": [
    "# To find the thickness of paper after n folds\n",
    "\n",
    "def num_layers(n):\n",
    "    thickness = 0.0005 # initial paper thickness in meter\n",
    "    for i in range(1,n+1):\n",
    "        thickness *= 2\n",
    "    return str(thickness) + 'm'"
   ]
  },
  {
   "cell_type": "code",
   "execution_count": 6,
   "id": "2c2db605",
   "metadata": {},
   "outputs": [
    {
     "data": {
      "text/plain": [
       "'1048.576m'"
      ]
     },
     "execution_count": 6,
     "metadata": {},
     "output_type": "execute_result"
    }
   ],
   "source": [
    "num_layers(21) "
   ]
  },
  {
   "cell_type": "markdown",
   "id": "1abbecec",
   "metadata": {},
   "source": [
    "## Question 4.\n",
    "-----\n",
    "### Create a function that takes a single string as argument and returns an ordered list containing the indices of all capital letters in the string.\n",
    "\n",
    "**Examples**\n",
    "\n",
    ">index_of_caps(&quot;eDaBiT&quot;) ➞ [1, 3, 5]\n",
    "\n",
    ">index_of_caps(&quot;eQuINoX&quot;) ➞ [1, 3, 4, 6]\n",
    "\n",
    ">index_of_caps(&quot;determine&quot;) ➞ [ ]\n",
    "\n",
    ">index_of_caps(&quot;STRIKE&quot;) ➞ [0, 1, 2, 3, 4, 5]\n",
    "\n",
    ">index_of_caps(&quot;sUn&quot;) ➞ [1]"
   ]
  },
  {
   "cell_type": "code",
   "execution_count": 7,
   "id": "a85b773c",
   "metadata": {},
   "outputs": [],
   "source": [
    "def index_of_caps(st):\n",
    "    li = [i for i in st]\n",
    "    new_list = []\n",
    "    for index, num in enumerate(li):\n",
    "        if num.isupper():\n",
    "            new_list.append(index)\n",
    "    return new_list \n"
   ]
  },
  {
   "cell_type": "code",
   "execution_count": 8,
   "id": "4d3189b8",
   "metadata": {},
   "outputs": [
    {
     "name": "stdout",
     "output_type": "stream",
     "text": [
      "[1, 3, 5] \n",
      "\n",
      "[0, 1, 2, 3, 4, 5]\n"
     ]
    },
    {
     "data": {
      "text/plain": [
       "[]"
      ]
     },
     "execution_count": 8,
     "metadata": {},
     "output_type": "execute_result"
    }
   ],
   "source": [
    "print(index_of_caps(\"eDaBiT\"), '\\n')\n",
    "\n",
    "print(index_of_caps(\"STRIKE\"))\n",
    "\n",
    "index_of_caps(\"determine\") "
   ]
  },
  {
   "cell_type": "markdown",
   "id": "6843a76b",
   "metadata": {},
   "source": [
    "## Question 5.\n",
    "----\n",
    "### Using list comprehensions, create a function that finds all even numbers from 1 to the given number.\n",
    "\n",
    "**Examples**\n",
    "\n",
    ">find_even_nums(8) ➞ [2, 4, 6, 8]\n",
    "\n",
    ">find_even_nums(4) ➞ [2, 4]\n",
    "\n",
    ">find_even_nums(2) ➞ [2]"
   ]
  },
  {
   "cell_type": "code",
   "execution_count": 9,
   "id": "920d81a0",
   "metadata": {},
   "outputs": [],
   "source": [
    "def find_even_nums(n):\n",
    "    return [i for i in range(1,n+1) if i % 2 ==0]"
   ]
  },
  {
   "cell_type": "code",
   "execution_count": 10,
   "id": "85ccbcfe",
   "metadata": {},
   "outputs": [
    {
     "name": "stdout",
     "output_type": "stream",
     "text": [
      "[2, 4]\n"
     ]
    },
    {
     "data": {
      "text/plain": [
       "[2, 4, 6, 8]"
      ]
     },
     "execution_count": 10,
     "metadata": {},
     "output_type": "execute_result"
    }
   ],
   "source": [
    "print(find_even_nums(4))\n",
    "\n",
    "find_even_nums(8)"
   ]
  }
 ],
 "metadata": {
  "kernelspec": {
   "display_name": "Python 3 (ipykernel)",
   "language": "python",
   "name": "python3"
  },
  "language_info": {
   "codemirror_mode": {
    "name": "ipython",
    "version": 3
   },
   "file_extension": ".py",
   "mimetype": "text/x-python",
   "name": "python",
   "nbconvert_exporter": "python",
   "pygments_lexer": "ipython3",
   "version": "3.9.7"
  }
 },
 "nbformat": 4,
 "nbformat_minor": 5
}
