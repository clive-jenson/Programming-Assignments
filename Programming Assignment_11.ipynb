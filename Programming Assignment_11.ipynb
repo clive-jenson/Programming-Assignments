{
 "cells": [
  {
   "cell_type": "markdown",
   "id": "0f795578",
   "metadata": {},
   "source": [
    "# Python Basics - Assignments\n",
    "--------------------------"
   ]
  },
  {
   "cell_type": "markdown",
   "id": "182d4d4d",
   "metadata": {},
   "source": [
    "### 1. Write a Python program to find words which are greater than given length k?"
   ]
  },
  {
   "cell_type": "code",
   "execution_count": 1,
   "id": "4d6127da",
   "metadata": {},
   "outputs": [],
   "source": [
    "def get_words(k):\n",
    "    sen = input(\"Enter your sentence:  \")\n",
    "    li = sen.split()\n",
    "    for i in li:\n",
    "        if len(i) > k:\n",
    "            print(i)"
   ]
  },
  {
   "cell_type": "code",
   "execution_count": 2,
   "id": "746728a8",
   "metadata": {},
   "outputs": [
    {
     "name": "stdout",
     "output_type": "stream",
     "text": [
      "Enter your sentence:  My parents and I went to a movie.\n",
      "parents\n",
      "movie.\n"
     ]
    }
   ],
   "source": [
    "get_words(4)"
   ]
  },
  {
   "cell_type": "markdown",
   "id": "e4de6e9e",
   "metadata": {},
   "source": [
    "### 2. Write a Python program for removing i-th character from a string?"
   ]
  },
  {
   "cell_type": "code",
   "execution_count": 3,
   "id": "1e74124d",
   "metadata": {},
   "outputs": [],
   "source": [
    "def remove_character(st,i):\n",
    "    a = st[:i]\n",
    "    b = st[i+1:]\n",
    "    \n",
    "    return a + b"
   ]
  },
  {
   "cell_type": "code",
   "execution_count": 4,
   "id": "fbf5e6a1",
   "metadata": {},
   "outputs": [
    {
     "data": {
      "text/plain": [
       "'amaing'"
      ]
     },
     "execution_count": 4,
     "metadata": {},
     "output_type": "execute_result"
    }
   ],
   "source": [
    "remove_character(\"amazing\", 3)"
   ]
  },
  {
   "cell_type": "markdown",
   "id": "c96cc252",
   "metadata": {},
   "source": [
    "### 3. Write a Python program to split and join a string?"
   ]
  },
  {
   "cell_type": "code",
   "execution_count": 5,
   "id": "9d049f11",
   "metadata": {},
   "outputs": [
    {
     "name": "stdout",
     "output_type": "stream",
     "text": [
      "Enter your string: hello how are you\n",
      "hello-how-are-you\n"
     ]
    }
   ],
   "source": [
    "st = input(\"Enter your string: \")\n",
    "st = st.split()\n",
    "\n",
    "print('-'.join(st))"
   ]
  },
  {
   "cell_type": "markdown",
   "id": "1097701a",
   "metadata": {},
   "source": [
    "### 4. Write a Python to check if a given string is binary string or not?"
   ]
  },
  {
   "cell_type": "code",
   "execution_count": 6,
   "id": "0413456e",
   "metadata": {},
   "outputs": [],
   "source": [
    "def check_string(string):\n",
    "    s = set(string)\n",
    "    s1 = {'0', '1'}\n",
    "    \n",
    "    for i in s:\n",
    "        if i in s1:\n",
    "            return True\n",
    "        return False\n",
    "    "
   ]
  },
  {
   "cell_type": "code",
   "execution_count": 7,
   "id": "0cf4c850",
   "metadata": {},
   "outputs": [
    {
     "name": "stdout",
     "output_type": "stream",
     "text": [
      "True\n"
     ]
    },
    {
     "data": {
      "text/plain": [
       "True"
      ]
     },
     "execution_count": 7,
     "metadata": {},
     "output_type": "execute_result"
    }
   ],
   "source": [
    "print(check_string(\"1011\"))\n",
    "\n",
    "check_string(\"a0101\")"
   ]
  },
  {
   "cell_type": "markdown",
   "id": "c5ff16c2",
   "metadata": {},
   "source": [
    "### 5. Write a Python program to find uncommon words from two Strings?"
   ]
  },
  {
   "cell_type": "code",
   "execution_count": 8,
   "id": "c01df107",
   "metadata": {},
   "outputs": [],
   "source": [
    "\n",
    "def uncommon(st1,st2):\n",
    "    l1 = st1.split()\n",
    "    l2 = st2.split()\n",
    "    uncom_words = []\n",
    "    for i in l1:\n",
    "        if i not in l2:\n",
    "            uncom_words.append(i)\n",
    "    for j in l2:\n",
    "        if j not in l1:\n",
    "            uncom_words.append(j)\n",
    "\n",
    "    return ', '.join(uncom_words)"
   ]
  },
  {
   "cell_type": "code",
   "execution_count": 9,
   "id": "150d85c6",
   "metadata": {},
   "outputs": [
    {
     "name": "stdout",
     "output_type": "stream",
     "text": [
      "are, i, am, fine, about\n"
     ]
    }
   ],
   "source": [
    "st1 = \"hello how are you?\"\n",
    "st2 = \"hello i am fine how about you?\"\n",
    "\n",
    "print(uncommon(st1, st2))"
   ]
  },
  {
   "cell_type": "markdown",
   "id": "4528f61a",
   "metadata": {},
   "source": [
    "### 6. Write a Python to find all duplicate characters in string?"
   ]
  },
  {
   "cell_type": "code",
   "execution_count": 10,
   "id": "e5836c3d",
   "metadata": {},
   "outputs": [],
   "source": [
    "def duplicates(string):\n",
    "    \n",
    "    count = {}\n",
    "    x = []\n",
    "    for i in string:\n",
    "        if i in count:\n",
    "            count[i] += 1\n",
    "        else:\n",
    "            count[i] = 1\n",
    "\n",
    "    for key, value in count.items():\n",
    "        if value > 1:\n",
    "            x.append(key)\n",
    "    return x\n",
    "    "
   ]
  },
  {
   "cell_type": "code",
   "execution_count": 11,
   "id": "9a0cfa67",
   "metadata": {},
   "outputs": [
    {
     "data": {
      "text/plain": [
       "['e', 'c', 'a', 'r']"
      ]
     },
     "execution_count": 11,
     "metadata": {},
     "output_type": "execute_result"
    }
   ],
   "source": [
    "duplicates(\"specialcharacter\")"
   ]
  },
  {
   "cell_type": "markdown",
   "id": "7f39f6f5",
   "metadata": {},
   "source": [
    "### 7. Write a Python Program to check if a string contains any special character?"
   ]
  },
  {
   "cell_type": "code",
   "execution_count": 12,
   "id": "817c27e7",
   "metadata": {},
   "outputs": [],
   "source": [
    "def special_char_check(st):\n",
    "    sp_char = \"!@#$%^&*()_?><|\\\\~\"\n",
    "    for i in st:\n",
    "        if i in sp_char:\n",
    "            return True \n",
    "    return False\n",
    "\n",
    "        "
   ]
  },
  {
   "cell_type": "code",
   "execution_count": 13,
   "id": "9200c004",
   "metadata": {},
   "outputs": [
    {
     "name": "stdout",
     "output_type": "stream",
     "text": [
      "False\n"
     ]
    },
    {
     "data": {
      "text/plain": [
       "True"
      ]
     },
     "execution_count": 13,
     "metadata": {},
     "output_type": "execute_result"
    }
   ],
   "source": [
    "print(special_char_check(\"asdfsdf23\"))\n",
    "\n",
    "special_char_check(\"sde23#@^%$&?>\")\n",
    "\n"
   ]
  }
 ],
 "metadata": {
  "kernelspec": {
   "display_name": "Python 3 (ipykernel)",
   "language": "python",
   "name": "python3"
  },
  "language_info": {
   "codemirror_mode": {
    "name": "ipython",
    "version": 3
   },
   "file_extension": ".py",
   "mimetype": "text/x-python",
   "name": "python",
   "nbconvert_exporter": "python",
   "pygments_lexer": "ipython3",
   "version": "3.9.7"
  }
 },
 "nbformat": 4,
 "nbformat_minor": 5
}
