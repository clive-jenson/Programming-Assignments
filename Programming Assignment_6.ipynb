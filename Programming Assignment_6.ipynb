{
 "cells": [
  {
   "cell_type": "markdown",
   "id": "0ca22dd8",
   "metadata": {},
   "source": [
    "# Python Basics - Assignments\n",
    "--------------------------"
   ]
  },
  {
   "cell_type": "markdown",
   "id": "281125ea",
   "metadata": {},
   "source": [
    "### 1. Write a Python Program to Display Fibonacci Sequence Using Recursion?"
   ]
  },
  {
   "cell_type": "code",
   "execution_count": 1,
   "id": "b06260aa",
   "metadata": {},
   "outputs": [
    {
     "name": "stdout",
     "output_type": "stream",
     "text": [
      "Enter the number of terms to be displayed: 10\n",
      "0 1 1 2 3 5 8 13 21 "
     ]
    }
   ],
   "source": [
    "# Fibonacci sequence is 0,1,1,2,3,5,8,13,21,34\n",
    "\n",
    "def Fibonacci_sequence(n):\n",
    "    if n <= 0:\n",
    "        print(\"Negative numbers not allowed. Please enter a positive number\")\n",
    "    \n",
    "    elif n == 1:\n",
    "        return 0\n",
    "    \n",
    "    elif n == 2:\n",
    "        return 1\n",
    "    else:\n",
    "        return Fibonacci_sequence(n-1)+ Fibonacci_sequence(n-2)\n",
    "    \n",
    "nterms = int(input(\"Enter the number of terms to be displayed: \"))\n",
    "\n",
    "for i in range(1,nterms):\n",
    "       print(Fibonacci_sequence(i), end = ' ') \n"
   ]
  },
  {
   "cell_type": "markdown",
   "id": "a52b9fb9",
   "metadata": {},
   "source": [
    "### 2. Write a Python Program to Find Factorial of Number Using Recursion?\n"
   ]
  },
  {
   "cell_type": "code",
   "execution_count": 2,
   "id": "4daafd55",
   "metadata": {},
   "outputs": [
    {
     "name": "stdout",
     "output_type": "stream",
     "text": [
      "Enter a number: 6\n",
      "\n",
      "The factorial of given number is :  720\n"
     ]
    }
   ],
   "source": [
    "# To find factorial of a number\n",
    "\n",
    "def Factorial(n):\n",
    "    if n == 0:\n",
    "        return 1 \n",
    "    else:\n",
    "        return n * Factorial(n-1)\n",
    "\n",
    "num = int(input(\"Enter a number: \"))\n",
    "print()\n",
    "\n",
    "print(\"The factorial of given number is : \", Factorial(num))\n"
   ]
  },
  {
   "cell_type": "markdown",
   "id": "025bef3c",
   "metadata": {},
   "source": [
    "### 3. Write a Python Program to calculate your Body Mass Index?\n",
    "The formula to calculate BMI is $$\\frac{\\text{weight} (kg)} { \\text{height} (m)^2}$$\n",
    "\n",
    "Here height is mentioned in **m**, therefore **cm** is converted by dividing **height by 100**\n"
   ]
  },
  {
   "cell_type": "code",
   "execution_count": 3,
   "id": "53e1b9bc",
   "metadata": {},
   "outputs": [
    {
     "name": "stdout",
     "output_type": "stream",
     "text": [
      "Enter your height in cm: 162\n",
      "Enter your weight in kg: 52\n",
      "\n",
      "Your BMI is 19.81, and you are healthy.\n"
     ]
    }
   ],
   "source": [
    "# Input parameters\n",
    "\n",
    "height = float(input(\"Enter your height in cm: \"))\n",
    "weight = float(input(\"Enter your weight in kg: \"))\n",
    "\n",
    "print()\n",
    "\n",
    "# Formula to calculate BMI   \n",
    "\n",
    "BMI = round(weight / (height/100)**2,2)\n",
    "\n",
    "x = ''\n",
    "if BMI < 18.5:\n",
    "    x = \"you are underweight.\"\n",
    "elif BMI < 25:\n",
    "    x = \"you are healthy.\"\n",
    "elif BMI < 30:\n",
    "    x = \"you are over weight.\"\n",
    "elif BMI < 35:\n",
    "    x = \"you are severely over weight.\"\n",
    "elif BMI <= 40:\n",
    "    x = \"you are obese.\"\n",
    "else:\n",
    "    x = \"you are severely obese.\"\n",
    "    \n",
    "print(f\"Your BMI is {BMI}, and {x}\")"
   ]
  },
  {
   "cell_type": "markdown",
   "id": "ad2653de",
   "metadata": {},
   "source": [
    "### 4. Write a Python Program to calculate the natural logarithm of any number?\n"
   ]
  },
  {
   "cell_type": "code",
   "execution_count": 4,
   "id": "cb27ac77",
   "metadata": {},
   "outputs": [
    {
     "name": "stdout",
     "output_type": "stream",
     "text": [
      "Enter the number: 55\n",
      "Natural logarithm of 55 is : 4.00733\n"
     ]
    }
   ],
   "source": [
    "# To calculate natural logarithm of any number, here we consider integer type values\n",
    "\n",
    "import math\n",
    "\n",
    "num = int(input(\"Enter the number: \"))\n",
    " \n",
    "# Value of log base e or ln of any given number\n",
    "print (f\"Natural logarithm of {num} is :\", round(math.log(num),5))\n",
    "\n"
   ]
  },
  {
   "cell_type": "markdown",
   "id": "76ddfb8c",
   "metadata": {},
   "source": [
    "### 5. Write a Python Program for cube sum of first n natural numbers?"
   ]
  },
  {
   "cell_type": "code",
   "execution_count": 6,
   "id": "9fcffa64",
   "metadata": {},
   "outputs": [
    {
     "name": "stdout",
     "output_type": "stream",
     "text": [
      "Enter the number of terms whose cube sum to calculate: 8\n"
     ]
    },
    {
     "data": {
      "text/plain": [
       "1296"
      ]
     },
     "execution_count": 6,
     "metadata": {},
     "output_type": "execute_result"
    }
   ],
   "source": [
    "# function to calculate the cube sum of first n natural numbers\n",
    "def cube_sum(n):\n",
    "    \n",
    "    sum = 0\n",
    "\n",
    "    for i in range(1, n+1):\n",
    "        sum += i**3\n",
    "\n",
    "    return sum\n",
    "    \n",
    "nterms = int(input(\"Enter the number of terms whose cube sum to calculate: \"))\n",
    "cube_sum(nterms)\n"
   ]
  }
 ],
 "metadata": {
  "kernelspec": {
   "display_name": "Python 3 (ipykernel)",
   "language": "python",
   "name": "python3"
  },
  "language_info": {
   "codemirror_mode": {
    "name": "ipython",
    "version": 3
   },
   "file_extension": ".py",
   "mimetype": "text/x-python",
   "name": "python",
   "nbconvert_exporter": "python",
   "pygments_lexer": "ipython3",
   "version": "3.9.7"
  }
 },
 "nbformat": 4,
 "nbformat_minor": 5
}
