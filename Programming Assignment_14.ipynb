{
 "cells": [
  {
   "cell_type": "markdown",
   "id": "6665bc92",
   "metadata": {},
   "source": [
    "# Python Basics - Assignments\n",
    "--------------------------"
   ]
  },
  {
   "cell_type": "markdown",
   "id": "659724a4",
   "metadata": {},
   "source": [
    "## Question 1:\n",
    "---------\n",
    "### Define a class with a generator which can iterate the numbers, which are divisible by 7, between a given range 0 and n."
   ]
  },
  {
   "cell_type": "code",
   "execution_count": 1,
   "id": "35c6e48d",
   "metadata": {},
   "outputs": [
    {
     "name": "stdout",
     "output_type": "stream",
     "text": [
      "0\n",
      "7\n",
      "14\n",
      "21\n",
      "28\n",
      "35\n",
      "42\n",
      "49\n",
      "56\n",
      "63\n",
      "70\n",
      "77\n",
      "84\n",
      "91\n",
      "98\n"
     ]
    }
   ],
   "source": [
    "class generator:\n",
    "\n",
    "    def __init__(self, n):\n",
    "        super().__init__()\n",
    "        self.n = n\n",
    "\n",
    "    def div_by7(self):\n",
    "        for i in range(0, self.n):\n",
    "            if i % 7 == 0:\n",
    "                yield i\n",
    "\n",
    "iterator = generator(100)\n",
    "for num in iterator.div_by7():\n",
    "    print(num)"
   ]
  },
  {
   "cell_type": "markdown",
   "id": "ef8a6434",
   "metadata": {},
   "source": [
    "## Question 2:\n",
    "---\n",
    "### Write a program to compute the frequency of the words from the input. The output should output after sorting the key alphanumerically.\n",
    "\n",
    "Suppose the following input is supplied to the program:\n",
    "\n",
    "`New to Python or choosing between Python 2 and Python 3? Read Python 2 or\n",
    "Python 3.`\n",
    "\n",
    "Then, the output should be:\n",
    "\n",
    "    2:2\n",
    "\n",
    "    3.:1\n",
    "\n",
    "    3?:1\n",
    "\n",
    "    New:1\n",
    "\n",
    "    Python:5\n",
    "\n",
    "    Read:1\n",
    "\n",
    "    and:1\n",
    "\n",
    "    between:1\n",
    "\n",
    "    choosing:1\n",
    "\n",
    "    or:2\n",
    "\n",
    "    to:1"
   ]
  },
  {
   "cell_type": "code",
   "execution_count": 2,
   "id": "4f2307ba",
   "metadata": {},
   "outputs": [],
   "source": [
    "def frequency_words():\n",
    "    st = input(\"Enter your sentence: \").split()\n",
    "    st.sort()\n",
    "    st1 = list(set(st))\n",
    "    count = {}\n",
    "    for i in st:\n",
    "        if i in st1:\n",
    "            count.setdefault(i,0)\n",
    "            count[i] += 1\n",
    "    return count\n",
    "        "
   ]
  },
  {
   "cell_type": "code",
   "execution_count": 3,
   "id": "8d07eb9d",
   "metadata": {},
   "outputs": [
    {
     "name": "stdout",
     "output_type": "stream",
     "text": [
      "Enter your sentence: New to Python or choosing between Python 2 and Python 3? Read Python 2 or Python 3.\n"
     ]
    },
    {
     "data": {
      "text/plain": [
       "{'2': 2,\n",
       " '3.': 1,\n",
       " '3?': 1,\n",
       " 'New': 1,\n",
       " 'Python': 5,\n",
       " 'Read': 1,\n",
       " 'and': 1,\n",
       " 'between': 1,\n",
       " 'choosing': 1,\n",
       " 'or': 2,\n",
       " 'to': 1}"
      ]
     },
     "execution_count": 3,
     "metadata": {},
     "output_type": "execute_result"
    }
   ],
   "source": [
    "frequency_words()"
   ]
  },
  {
   "cell_type": "markdown",
   "id": "c16d16df",
   "metadata": {},
   "source": [
    "## Question 3:\n",
    "---\n",
    "\n",
    "### Define a class Person and its two child classes: Male and Female. All classes have a method &quot;getGender&quot; which can print &quot;Male&quot; for Male class and &quot;Female&quot; for Female class."
   ]
  },
  {
   "cell_type": "code",
   "execution_count": 4,
   "id": "19b4ee43",
   "metadata": {},
   "outputs": [
    {
     "name": "stdout",
     "output_type": "stream",
     "text": [
      "Male\n",
      "Female\n"
     ]
    }
   ],
   "source": [
    "class Person:\n",
    "    \n",
    "    def getGender(self):\n",
    "        return \"Not Known\"\n",
    "\n",
    "class Male(Person):\n",
    "    \n",
    "    def getGender(self):\n",
    "        return \"Male\"\n",
    "\n",
    "class Female(Person):\n",
    "    \n",
    "    def getGender(self):\n",
    "        return \"Female\"\n",
    "\n",
    "thor = Male()\n",
    "jane = Female()\n",
    "\n",
    "print(thor.getGender())\n",
    "print(jane.getGender())\n"
   ]
  },
  {
   "cell_type": "markdown",
   "id": "7fac19c7",
   "metadata": {},
   "source": [
    "## Question 4:\n",
    "----\n",
    "### Please write a program to generate all sentences where\n",
    "**subject** is in \n",
    "`[\"I\", \"You\"] `\n",
    "\n",
    "and **verb** is in `[\"Play\", \"Love\"]` \n",
    "\n",
    "and the **object** is in `[\"Hockey\",\"Football\"]`."
   ]
  },
  {
   "cell_type": "code",
   "execution_count": 5,
   "id": "7b935f8e",
   "metadata": {},
   "outputs": [
    {
     "name": "stdout",
     "output_type": "stream",
     "text": [
      "I Play Hockey\n",
      "I Play Football\n",
      "I Love Hockey\n",
      "I Love Football\n",
      "You Play Hockey\n",
      "You Play Football\n",
      "You Love Hockey\n",
      "You Love Football\n"
     ]
    }
   ],
   "source": [
    "subjects = [\"I\", \"You\"]\n",
    "verbs = [\"Play\", \"Love\"]\n",
    "objects = [\"Hockey\",\"Football\"]\n",
    "\n",
    "sen = [[i, j, k] for i in subjects  for j in verbs for k in objects] \n",
    "\n",
    "for item  in sen:\n",
    "    print(\" \".join(item))\n",
    "\n"
   ]
  },
  {
   "cell_type": "markdown",
   "id": "99b76864",
   "metadata": {},
   "source": [
    "## Question 5:\n",
    "----\n",
    "### Please write a program to compress and decompress the string \n",
    "    \n",
    "       \"hello world!hello world!hello world!hello world!\"."
   ]
  },
  {
   "cell_type": "code",
   "execution_count": 6,
   "id": "bd113ebf",
   "metadata": {},
   "outputs": [
    {
     "name": "stdout",
     "output_type": "stream",
     "text": [
      "Compressed String:  \n",
      "b'x\\x9c\\xcbH\\xcd\\xc9\\xc9W(\\xcf/\\xcaIQ\\xcc \\x82\\r\\x00\\xbd[\\x11\\xf5' \n",
      "\n",
      "Decompressed String: \n",
      "b'hello world!hello world!hello world!hello world!'\n"
     ]
    }
   ],
   "source": [
    "import zlib\n",
    "  \n",
    "st = b\"hello world!hello world!hello world!hello world!\"\n",
    "   \n",
    "com_text = zlib.compress(st)\n",
    "print(\"Compressed String:  \" )\n",
    "print(com_text, '\\n')\n",
    "  \n",
    "print(\"Decompressed String: \")\n",
    "print(zlib.decompress(com_text))"
   ]
  },
  {
   "cell_type": "markdown",
   "id": "5ac3472c",
   "metadata": {},
   "source": [
    "## Question 6:\n",
    "----\n",
    "### Please write a binary search function which searches an item in a sorted list. The function should return the index of element to be searched in the list."
   ]
  },
  {
   "cell_type": "code",
   "execution_count": 7,
   "id": "3f73340c",
   "metadata": {},
   "outputs": [
    {
     "name": "stdout",
     "output_type": "stream",
     "text": [
      "The element exist in 6th index location.\n"
     ]
    }
   ],
   "source": [
    "import math\n",
    "\n",
    "def bin_search(li, element):\n",
    "    low = 0\n",
    "    high = len(li) - 1\n",
    "    index = -1\n",
    "    \n",
    "    while high >= low and index == -1:\n",
    "        mid = int(math.floor((high + low)/2.0))\n",
    "        if li[mid] == element:\n",
    "            index = mid\n",
    "        elif li[mid] > element:\n",
    "            high = mid - 1\n",
    "        else:\n",
    "            low = mid + 1\n",
    "\n",
    "    return index\n",
    "\n",
    "li = [1,4,5,6,8,9,21,25,51,61]\n",
    "\n",
    "print(f\"The element exist in {bin_search(li,21)}th index location.\")\n",
    "\n",
    "    \n"
   ]
  }
 ],
 "metadata": {
  "kernelspec": {
   "display_name": "Python 3 (ipykernel)",
   "language": "python",
   "name": "python3"
  },
  "language_info": {
   "codemirror_mode": {
    "name": "ipython",
    "version": 3
   },
   "file_extension": ".py",
   "mimetype": "text/x-python",
   "name": "python",
   "nbconvert_exporter": "python",
   "pygments_lexer": "ipython3",
   "version": "3.9.7"
  }
 },
 "nbformat": 4,
 "nbformat_minor": 5
}
