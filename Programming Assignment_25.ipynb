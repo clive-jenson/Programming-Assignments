{
 "cells": [
  {
   "cell_type": "markdown",
   "id": "c1ecb7c7",
   "metadata": {},
   "source": [
    "# Python Basics - Assignments\n",
    "--------------------------"
   ]
  },
  {
   "cell_type": "markdown",
   "id": "ac97f114",
   "metadata": {},
   "source": [
    "## Question 1.\n",
    "-----\n",
    "\n",
    "### Create a function that takes three integer arguments (a, b, c) and returns the amount of integers which are of equal value.\n",
    "\n",
    "**Examples**\n",
    "\n",
    "    equal(3, 4, 3) ➞ 2\n",
    "    \n",
    "    equal(1, 1, 1) ➞ 3\n",
    "    \n",
    "    equal(3, 4, 1) ➞ 0\n",
    "\n",
    "***Notes***\n",
    "\n",
    "Your function must return 0, 2 or 3.\n",
    "\n"
   ]
  },
  {
   "cell_type": "code",
   "execution_count": 85,
   "id": "9ab4f335",
   "metadata": {},
   "outputs": [
    {
     "data": {
      "text/plain": [
       "3"
      ]
     },
     "execution_count": 85,
     "metadata": {},
     "output_type": "execute_result"
    }
   ],
   "source": [
    "# Method 1 using comparison operators\n",
    "def equal(a,b,c):\n",
    "    count = 0\n",
    "    if a == b == c:\n",
    "        count += 3\n",
    "    elif (a == b and b != c) or (a == c and c != b):\n",
    "        count += 2\n",
    "   \n",
    "    return count\n",
    "\n",
    "equal(1, 1, 1)"
   ]
  },
  {
   "cell_type": "code",
   "execution_count": 48,
   "id": "0030f93f",
   "metadata": {},
   "outputs": [],
   "source": [
    "# Using set and len function \n",
    "def equal1(a,b,c):\n",
    "    s = set([a,b,c])\n",
    "    if len(s) == 1:\n",
    "        count = 3\n",
    "    elif len(s) == 2:\n",
    "        count = 2\n",
    "    else:\n",
    "        count = 0\n",
    "    return count"
   ]
  },
  {
   "cell_type": "code",
   "execution_count": 51,
   "id": "6a995a1e",
   "metadata": {},
   "outputs": [
    {
     "data": {
      "text/plain": [
       "0"
      ]
     },
     "execution_count": 51,
     "metadata": {},
     "output_type": "execute_result"
    }
   ],
   "source": [
    "equal1(3, 4, 1) "
   ]
  },
  {
   "cell_type": "markdown",
   "id": "58d20285",
   "metadata": {},
   "source": [
    "## Question 2.\n",
    "------\n",
    "### Write a function that converts a dictionary into a list of keys-values tuples.\n",
    "\n",
    "**Examples**\n",
    "\n",
    ">dict_to_list({\n",
    "&quot;D&quot;: 1,\n",
    "&quot;B&quot;: 2,\n",
    "&quot;C&quot;: 3\n",
    "}) ➞ [(&quot;B&quot;, 2), (&quot;C&quot;, 3), (&quot;D&quot;, 1)]\n",
    "\n",
    ">dict_to_list({\n",
    "&quot;likes&quot;: 2,\n",
    "&quot;dislikes&quot;: 3,\n",
    "&quot;followers&quot;: 10\n",
    "}) ➞ [(&quot;dislikes&quot;, 3), (&quot;followers&quot;, 10), (&quot;likes&quot;, 2)]\n",
    "\n",
    "***Notes***\n",
    "\n",
    "Return the elements in the list in alphabetical order.\n",
    "\n"
   ]
  },
  {
   "cell_type": "code",
   "execution_count": 82,
   "id": "6c9f62ab",
   "metadata": {},
   "outputs": [],
   "source": [
    "def dict_to_list(d):\n",
    "    x = sorted(d.items())\n",
    "    return x"
   ]
  },
  {
   "cell_type": "code",
   "execution_count": 84,
   "id": "e07d2829",
   "metadata": {},
   "outputs": [
    {
     "name": "stdout",
     "output_type": "stream",
     "text": [
      "[('B', 2), ('C', 3), ('D', 1)]\n"
     ]
    },
    {
     "data": {
      "text/plain": [
       "[('dislikes', 3), ('followers', 10), ('likes', 2)]"
      ]
     },
     "execution_count": 84,
     "metadata": {},
     "output_type": "execute_result"
    }
   ],
   "source": [
    "print(dict_to_list({ \"D\": 1, \"B\": 2, \"C\": 3 }))\n",
    "\n",
    "dict_to_list({ \"likes\": 2, \"dislikes\": 3, \"followers\": 10 }) "
   ]
  },
  {
   "cell_type": "markdown",
   "id": "9eea6207",
   "metadata": {},
   "source": [
    "## Question 3.\n",
    "------\n",
    "### Write a function that creates a dictionary with each (key, value) pair being the (lower case,upper case) versions of a letter, respectively.\n",
    "\n",
    "**Examples**\n",
    "\n",
    ">mapping( [&quot;p&quot;, &quot;s&quot;] ) ➞ { &quot;p&quot; : &quot;P&quot;, &quot;s&quot; : &quot;S&quot; }\n",
    "\n",
    ">mapping( [&quot;a&quot;, &quot;b&quot;, &quot;c&quot;] ) ➞ { &quot;a&quot; : &quot;A&quot;, &quot;b&quot; : &quot;B&quot;, &quot;c&quot;: &quot;C&quot; }\n",
    "\n",
    ">mapping( [&quot;a&quot;, &quot;v&quot;, &quot;y&quot;, &quot;z&quot;] ) ➞ { &quot;a&quot; : &quot;A&quot;, &quot;v&quot; : &quot;V&quot;, &quot;y&quot; : &quot;Y&quot;, &quot;z&quot; : &quot;Z&quot; }\n",
    "\n",
    "***Notes***\n",
    "\n",
    "All of the letters in the input list will always be lowercase.\n",
    "\n"
   ]
  },
  {
   "cell_type": "code",
   "execution_count": 106,
   "id": "50473db5",
   "metadata": {},
   "outputs": [],
   "source": [
    "def mapping(li):\n",
    "    value = []\n",
    "    for i in li:\n",
    "        value.append(i.upper())\n",
    "    x = dict(zip(li,value))\n",
    "    return x\n",
    "        "
   ]
  },
  {
   "cell_type": "code",
   "execution_count": 96,
   "id": "626ad2a6",
   "metadata": {},
   "outputs": [
    {
     "name": "stdout",
     "output_type": "stream",
     "text": [
      "[('p', 'P'), ('s', 'S')]\n",
      "[('a', 'A'), ('v', 'V'), ('y', 'Y'), ('z', 'Z')]\n"
     ]
    },
    {
     "data": {
      "text/plain": [
       "{'a': 'A', 'v': 'V', 'y': 'Y', 'z': 'Z'}"
      ]
     },
     "execution_count": 96,
     "metadata": {},
     "output_type": "execute_result"
    }
   ],
   "source": [
    "mapping( [\"p\", \"s\"] ) \n",
    "mapping( [\"a\", \"v\", \"y\", \"z\"] )"
   ]
  },
  {
   "cell_type": "markdown",
   "id": "b2199d49",
   "metadata": {},
   "source": [
    "## Question 4.\n",
    "--------\n",
    "### Write a function, that replaces all vowels in a string with a specified vowel.\n",
    "\n",
    "**Examples**\n",
    "\n",
    ">vow_replace( &quot;apples and bananas&quot;, &quot;u&quot; ) ➞ &quot;upplus und bununus&quot;\n",
    "\n",
    ">vow_replace( &quot;cheese casserole&quot;, &quot;o&quot; ) ➞ &quot;chooso cossorolo&quot;\n",
    "\n",
    ">vow_replace( &quot;stuffed jalapeno poppers&quot;, &quot;e&quot; ) ➞ &quot;steffed jelepene peppers&quot;\n",
    "\n",
    "***Notes***\n",
    "\n",
    "All words will be lowercase. Y is not considered a vowel.\n",
    "\n"
   ]
  },
  {
   "cell_type": "code",
   "execution_count": 3,
   "id": "b7e11444",
   "metadata": {},
   "outputs": [],
   "source": [
    "def vow_replace(st, letter):\n",
    "    vowel = 'aieou'\n",
    "    for i in vowel:\n",
    "        st = st.replace(i, letter)\n",
    "    return st"
   ]
  },
  {
   "cell_type": "code",
   "execution_count": 6,
   "id": "37884f13",
   "metadata": {},
   "outputs": [
    {
     "name": "stdout",
     "output_type": "stream",
     "text": [
      "upplus und bununus\n"
     ]
    },
    {
     "data": {
      "text/plain": [
       "'steffed jelepene peppers'"
      ]
     },
     "execution_count": 6,
     "metadata": {},
     "output_type": "execute_result"
    }
   ],
   "source": [
    "print(vow_replace( \"apples and bananas\", \"u\" ))\n",
    "\n",
    "vow_replace( \"stuffed jalapeno poppers\", \"e\" )"
   ]
  },
  {
   "cell_type": "markdown",
   "id": "eca08638",
   "metadata": {},
   "source": [
    "## Question 5.\n",
    "-------\n",
    "\n",
    "### Create a function that takes a string as input and capitalizes a letter if its ASCII code is even and returns its lower case version if its ASCII code is odd.\n",
    "\n",
    "**Examples**\n",
    "\n",
    ">ascii_capitalize( &quot;to be or not to be!&quot; ) ➞ &quot;To Be oR NoT To Be!&quot;\n",
    "\n",
    ">ascii_capitalize( &quot;THE LITTLE MERMAID&quot; ) ➞ &quot;THe LiTTLe meRmaiD&quot;\n",
    "\n",
    ">ascii_capitalize( &quot;Oh what a beautiful morning.&quot; ) ➞ &quot;oH wHaT a BeauTiFuL\n",
    "moRNiNg.&quot;"
   ]
  },
  {
   "cell_type": "code",
   "execution_count": 9,
   "id": "6d00d2e7",
   "metadata": {},
   "outputs": [],
   "source": [
    "def ascii_capitalize(st):\n",
    "    for i in st:\n",
    "        if ord(i) % 2 == 0:\n",
    "            st = st.replace(i, i.upper())\n",
    "        else:\n",
    "            st = st.replace(i, i.lower())\n",
    "    return st \n",
    "            "
   ]
  },
  {
   "cell_type": "code",
   "execution_count": 12,
   "id": "25c84a9d",
   "metadata": {},
   "outputs": [
    {
     "name": "stdout",
     "output_type": "stream",
     "text": [
      "THe LiTTLe meRmaiD\n"
     ]
    },
    {
     "data": {
      "text/plain": [
       "'oH wHaT a BeauTiFuL moRNiNg.'"
      ]
     },
     "execution_count": 12,
     "metadata": {},
     "output_type": "execute_result"
    }
   ],
   "source": [
    "print(ascii_capitalize( \"THE LITTLE MERMAID\" ) )\n",
    "\n",
    "ascii_capitalize( \"Oh what a beautiful morning.\" ) "
   ]
  }
 ],
 "metadata": {
  "kernelspec": {
   "display_name": "Python 3 (ipykernel)",
   "language": "python",
   "name": "python3"
  },
  "language_info": {
   "codemirror_mode": {
    "name": "ipython",
    "version": 3
   },
   "file_extension": ".py",
   "mimetype": "text/x-python",
   "name": "python",
   "nbconvert_exporter": "python",
   "pygments_lexer": "ipython3",
   "version": "3.9.7"
  }
 },
 "nbformat": 4,
 "nbformat_minor": 5
}
