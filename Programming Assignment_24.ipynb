{
 "cells": [
  {
   "cell_type": "markdown",
   "id": "40176037",
   "metadata": {},
   "source": [
    "# Python Basics - Assignments\n",
    "--------------------------"
   ]
  },
  {
   "cell_type": "markdown",
   "id": "f532c8d8",
   "metadata": {},
   "source": [
    "## Question 1.\n",
    "-------\n",
    "### Create a function that takes an integer and returns a list from 1 to the given number, where:\n",
    "\n",
    "1. If the number can be divided evenly by 4, amplify it by 10 (i.e. return 10 times the\n",
    "number).\n",
    "2. If the number cannot be divided evenly by 4, simply return the number.\n",
    "\n",
    "**Examples**\n",
    "\n",
    "    amplify(4) ➞ [1, 2, 3, 40]\n",
    "    \n",
    "    amplify(3) ➞ [1, 2, 3]\n",
    "    \n",
    "    amplify(25) ➞ [1, 2, 3, 40, 5, 6, 7, 80, 9, 10, 11, 120, 13, 14, 15, 160, 17, 18, 19, 200, 21, 22, 23, 240, 25]\n",
    "\n",
    "***Notes***\n",
    "\n",
    "<li> The given integer will always be equal to or greater than 1.\n",
    "<li>Include the number (see example above).\n",
    "<li>To perform this problem with its intended purpose, try doing it with list\n",
    "comprehensions. If that&#39;s too difficult, just solve the challenge any way you can.\n",
    "\n",
    "\n",
    "\n"
   ]
  },
  {
   "cell_type": "code",
   "execution_count": 44,
   "id": "80389475",
   "metadata": {},
   "outputs": [
    {
     "name": "stdout",
     "output_type": "stream",
     "text": [
      "[1, 2, 3, 40] "
     ]
    }
   ],
   "source": [
    "def amplify(n):\n",
    "    li = [i for i in range(1,n+1) ]\n",
    "#     print(li)\n",
    "    for i in range(len(li)):\n",
    "        if li[i] % 4 == 0:\n",
    "            li[i] = i * 10 + 10\n",
    "    print(li, end = ' ')\n",
    "    \n",
    "amplify(4)"
   ]
  },
  {
   "cell_type": "code",
   "execution_count": 43,
   "id": "6e651c72",
   "metadata": {},
   "outputs": [
    {
     "name": "stdout",
     "output_type": "stream",
     "text": [
      "[1, 2, 3, 40, 5, 6, 7, 80, 9, 10, 11, 120, 13, 14, 15, 160, 17, 18, 19, 200, 21, 22, 23, 240, 25] "
     ]
    }
   ],
   "source": [
    "amplify(25)"
   ]
  },
  {
   "cell_type": "markdown",
   "id": "7f35dd51",
   "metadata": {},
   "source": [
    "## Question 2.\n",
    "--------\n",
    "\n",
    "### Create a function that takes a list of numbers and return the number that&#39;s unique.\n",
    "\n",
    "**Examples**\n",
    "\n",
    "    unique([3, 3, 3, 7, 3, 3]) ➞ 7\n",
    "    \n",
    "    unique([0, 0, 0.77, 0, 0]) ➞ 0.77\n",
    "    \n",
    "    unique([0, 1, 1, 1, 1, 1, 1, 1]) ➞ 0\n",
    "***Notes***\n",
    "\n",
    "Test cases will always have exactly one unique number while all others are the same.\n",
    "\n",
    "\n"
   ]
  },
  {
   "cell_type": "code",
   "execution_count": 38,
   "id": "6ace2ce7",
   "metadata": {},
   "outputs": [],
   "source": [
    "def unique(li):\n",
    "    uniq = set(li)\n",
    "    for i in uniq:\n",
    "        li.remove(i) # Removing the first instance from the list\n",
    "        if i not in li: # If it's unique element it will be not there in list\n",
    "            return i \n",
    "        \n",
    "    "
   ]
  },
  {
   "cell_type": "code",
   "execution_count": 39,
   "id": "542ed889",
   "metadata": {},
   "outputs": [
    {
     "name": "stdout",
     "output_type": "stream",
     "text": [
      "7\n"
     ]
    },
    {
     "data": {
      "text/plain": [
       "0.77"
      ]
     },
     "execution_count": 39,
     "metadata": {},
     "output_type": "execute_result"
    }
   ],
   "source": [
    "print(unique([3, 3, 3, 7, 3, 3]))\n",
    "\n",
    "unique([0, 0, 0.77, 0, 0])\n"
   ]
  },
  {
   "cell_type": "markdown",
   "id": "0f1d0e65",
   "metadata": {},
   "source": [
    "## Question 3.\n",
    "--------\n",
    "\n",
    "### Your task is to create a Circle constructor that creates a circle with a radius provided by an argument. The circles constructed must have two getters getArea() (PIr^2) and getPerimeter() (2PI*r) which give both respective areas and perimeter (circumference).\n",
    "\n",
    "### For help with this class, I have provided you with a Rectangle constructor which you can use as a base example.\n",
    "\n",
    "**Examples**\n",
    "\n",
    ">circy = Circle(11)\n",
    "\n",
    ">circy.getArea()\n",
    "\n",
    "**Should return 380.132711084365**\n",
    "\n",
    ">circy = Circle(4.44)\n",
    "\n",
    ">circy.getPerimeter()\n",
    "\n",
    "**Should return 27.897342763877365**\n",
    "\n",
    "***Notes***\n",
    "\n",
    "Round results up to the nearest integer.\n"
   ]
  },
  {
   "cell_type": "code",
   "execution_count": 23,
   "id": "bf148cdf",
   "metadata": {},
   "outputs": [],
   "source": [
    "import math\n",
    "class Circle:\n",
    "    \n",
    "    def __init__(self, radius):\n",
    "        self.radius = radius\n",
    "        \n",
    "    def getArea(self):\n",
    "        area = math.pi * (self.radius**2)\n",
    "        return round(area,2) + \n",
    "        \n",
    "    def getPerimeter(self):\n",
    "        perimeter = 2 * math.pi * self.radius\n",
    "        return round(perimeter,2)\n",
    "        "
   ]
  },
  {
   "cell_type": "code",
   "execution_count": 26,
   "id": "379a8388",
   "metadata": {},
   "outputs": [
    {
     "name": "stdout",
     "output_type": "stream",
     "text": [
      "380.13\n"
     ]
    },
    {
     "data": {
      "text/plain": [
       "27.9"
      ]
     },
     "execution_count": 26,
     "metadata": {},
     "output_type": "execute_result"
    }
   ],
   "source": [
    "circy = Circle(11)\n",
    "\n",
    "# Area of the circle\n",
    "print(circy.getArea())\n",
    "\n",
    "circy = Circle(4.44)\n",
    "\n",
    "# Perimeter of the circle\n",
    "circy.getPerimeter()"
   ]
  },
  {
   "cell_type": "markdown",
   "id": "2f05b493",
   "metadata": {},
   "source": [
    "## Question 4.\n",
    "------------\n",
    "### Create a function that takes a list of strings and return a list, sorted from shortest to longest.\n",
    "\n",
    "**Examples**\n",
    "\n",
    ">sort_by_length([&quot;Google&quot;, &quot;Apple&quot;, &quot;Microsoft&quot;])\n",
    "➞ [&quot;Apple&quot;, &quot;Google&quot;, &quot;Microsoft&quot;]\n",
    "\n",
    ">sort_by_length([&quot;Leonardo&quot;, &quot;Michelangelo&quot;, &quot;Raphael&quot;, &quot;Donatello&quot;])\n",
    "➞ [&quot;Raphael&quot;, &quot;Leonardo&quot;, &quot;Donatello&quot;, &quot;Michelangelo&quot;]\n",
    "\n",
    ">sort_by_length([&quot;Turing&quot;, &quot;Einstein&quot;, &quot;Jung&quot;])\n",
    "➞ [&quot;Jung&quot;, &quot;Turing&quot;, &quot;Einstein&quot;]\n",
    "\n",
    "***Notes***\n",
    "\n",
    "All test cases contain lists with strings of different lengths, so you won&#39;t have to deal with\n",
    "multiple strings of the same length.\n"
   ]
  },
  {
   "cell_type": "code",
   "execution_count": 1,
   "id": "5b05e06f",
   "metadata": {},
   "outputs": [],
   "source": [
    "def sort_by_length(li):\n",
    "    li.sort(key = len)\n",
    "    return li\n",
    "    "
   ]
  },
  {
   "cell_type": "code",
   "execution_count": 2,
   "id": "a4ae4b14",
   "metadata": {},
   "outputs": [
    {
     "data": {
      "text/plain": [
       "['Raphael', 'Leonardo', 'Donatello', 'Michelangelo']"
      ]
     },
     "execution_count": 2,
     "metadata": {},
     "output_type": "execute_result"
    }
   ],
   "source": [
    "sort_by_length([\"Leonardo\", \"Michelangelo\", \"Raphael\", \"Donatello\"]) "
   ]
  },
  {
   "cell_type": "code",
   "execution_count": 3,
   "id": "63968056",
   "metadata": {},
   "outputs": [
    {
     "data": {
      "text/plain": [
       "['Apple', 'Google', 'Microsoft']"
      ]
     },
     "execution_count": 3,
     "metadata": {},
     "output_type": "execute_result"
    }
   ],
   "source": [
    "sort_by_length([\"Google\", \"Apple\", \"Microsoft\"])"
   ]
  },
  {
   "cell_type": "markdown",
   "id": "b0a73891",
   "metadata": {},
   "source": [
    "## Question 5.\n",
    "---------\n",
    "### Create a function that validates whether three given integers form a Pythagorean triplet. The sum of the squares of the two smallest integers must equal the square of the largest number to be validated.\n",
    "\n",
    "**Examples**\n",
    "\n",
    ">is_triplet(3, 4, 5) ➞ True\n",
    "\n",
    "$$3^{2} + 4^{2} = 25$$\n",
    "$$ 5^{2} = 25$$\n",
    "\n",
    ">is_triplet(13, 5, 12) ➞ True\n",
    "\n",
    "$$ 5^{2} + 12^{2} = 169$$\n",
    "$$ 13^{2} = 169$$\n",
    "\n",
    ">is_triplet(1, 2, 3) ➞ False\n",
    "\n",
    "$$ 1^{2} + 2^{2} = 5$$\n",
    "$$3^{2} = 9$$\n",
    "\n",
    "***Notes***\n",
    "\n",
    "Numbers may not be given in a sorted order."
   ]
  },
  {
   "cell_type": "code",
   "execution_count": 45,
   "id": "3e837deb",
   "metadata": {},
   "outputs": [],
   "source": [
    "def is_triplet(a,b,c):\n",
    "    li = [a,b,c] # creating a list of numbers\n",
    "    li.sort() # sorting the numbers\n",
    "    for i in li:\n",
    "        if li[0]**2 + li[1] ** 2 == li[-1] ** 2: # pythagorus formula\n",
    "            return True\n",
    "    return False"
   ]
  },
  {
   "cell_type": "code",
   "execution_count": 49,
   "id": "d957118b",
   "metadata": {},
   "outputs": [
    {
     "name": "stdout",
     "output_type": "stream",
     "text": [
      "True \n",
      "\n",
      "True\n"
     ]
    },
    {
     "data": {
      "text/plain": [
       "False"
      ]
     },
     "execution_count": 49,
     "metadata": {},
     "output_type": "execute_result"
    }
   ],
   "source": [
    "print(is_triplet(3, 4, 5) , '\\n')\n",
    "\n",
    "print(is_triplet(13, 5, 12))\n",
    "\n",
    "is_triplet(1, 2, 3) "
   ]
  }
 ],
 "metadata": {
  "kernelspec": {
   "display_name": "Python 3 (ipykernel)",
   "language": "python",
   "name": "python3"
  },
  "language_info": {
   "codemirror_mode": {
    "name": "ipython",
    "version": 3
   },
   "file_extension": ".py",
   "mimetype": "text/x-python",
   "name": "python",
   "nbconvert_exporter": "python",
   "pygments_lexer": "ipython3",
   "version": "3.9.7"
  }
 },
 "nbformat": 4,
 "nbformat_minor": 5
}
