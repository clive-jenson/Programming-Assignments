{
 "cells": [
  {
   "cell_type": "markdown",
   "id": "f05f446f",
   "metadata": {},
   "source": [
    "# Python Basics - Assignments\n",
    "--------------------------"
   ]
  },
  {
   "cell_type": "markdown",
   "id": "99e3f8ae",
   "metadata": {},
   "source": [
    "## Question 1:\n",
    "***\n",
    "### Please write a program using generator to print the numbers which can be divisible by 5 and 7 between 0 and n in comma separated form while n is input by console.\n",
    "\n",
    "**Example:**\n",
    "\n",
    "If the following n is given as input to the program:\n",
    "\n",
    "`100`\n",
    "\n",
    "Then, the output of the program should be:\n",
    "\n",
    "`0,35,70`"
   ]
  },
  {
   "cell_type": "code",
   "execution_count": 1,
   "id": "870c3e38",
   "metadata": {},
   "outputs": [],
   "source": [
    "def gen1(n):\n",
    "    for i in range(n+1):\n",
    "        if i % 5 == 0 and i % 7 == 0:\n",
    "            yield i \n",
    "    return i "
   ]
  },
  {
   "cell_type": "code",
   "execution_count": 2,
   "id": "1552fbae",
   "metadata": {},
   "outputs": [
    {
     "name": "stdout",
     "output_type": "stream",
     "text": [
      "0,35,70,"
     ]
    }
   ],
   "source": [
    "gen1(100)\n",
    "\n",
    "for i in gen1(100):\n",
    "    print(i, end = ',')\n"
   ]
  },
  {
   "cell_type": "markdown",
   "id": "c71eef00",
   "metadata": {},
   "source": [
    "## Question 2:\n",
    "---\n",
    "### Please write a program using generator to print the even numbers between 0 and n in comma separated form while n is input by console.\n",
    "\n",
    "**Example:**\n",
    "\n",
    "If the following n is given as input to the program:\n",
    "\n",
    "`10`\n",
    "\n",
    "Then, the output of the program should be:\n",
    "\n",
    "`0,2,4,6,8,10`"
   ]
  },
  {
   "cell_type": "code",
   "execution_count": 3,
   "id": "4ff5c93e",
   "metadata": {},
   "outputs": [],
   "source": [
    "def gen2(n):\n",
    "    for i in range(n+1):\n",
    "        if i % 2 == 0:\n",
    "            yield i \n",
    "    return i "
   ]
  },
  {
   "cell_type": "code",
   "execution_count": 4,
   "id": "1f61f77d",
   "metadata": {},
   "outputs": [
    {
     "name": "stdout",
     "output_type": "stream",
     "text": [
      "0,2,4,6,8,10,12,14,16,18,20,22,24,26,28,30,32,34,36,38,40,42,44,46,48,50,52,54,56,58,60,62,64,66,68,70,72,74,76,78,80,82,84,86,88,90,92,94,96,98,100,"
     ]
    }
   ],
   "source": [
    "for i in gen2(100):\n",
    "    print(i, end = ',')"
   ]
  },
  {
   "cell_type": "markdown",
   "id": "04d831c6",
   "metadata": {},
   "source": [
    "## Question 3:\n",
    "---\n",
    "### The Fibonacci Sequence is computed based on the following formula:\n",
    "    f(n)= 0 if n= 0\n",
    "\n",
    "    f(n)= 1 if n= 1\n",
    "\n",
    "    f(n)= f(n-1) + f(n-2) if  n > 1\n",
    "\n",
    "Please write a program using list comprehension to print the Fibonacci Sequence in comma separated form with a given n input by console.\n",
    "\n",
    "**Example:**\n",
    "\n",
    "If the following n is given as input to the program:\n",
    "\n",
    "`7`\n",
    "\n",
    "Then, the output of the program should be:\n",
    "\n",
    "`0,1,1,2,3,5,8,13`"
   ]
  },
  {
   "cell_type": "code",
   "execution_count": 5,
   "id": "08f68555",
   "metadata": {},
   "outputs": [
    {
     "name": "stdout",
     "output_type": "stream",
     "text": [
      "6\n",
      "[0, 1, 1, 2, 3, 5]\n"
     ]
    }
   ],
   "source": [
    "n = int(input())\n",
    "fibonacci = [0,1]\n",
    "\n",
    "for i in range(2, n):\n",
    "    fibonacci.append(fibonacci[i-1] + fibonacci[i-2])\n",
    "\n",
    "print(fibonacci)"
   ]
  },
  {
   "cell_type": "markdown",
   "id": "f8fecbda",
   "metadata": {},
   "source": [
    "## Question 4:\n",
    "----\n",
    "### Assuming that we have some email addresses in the &quot;username@companyname.com&quot; format, please write program to print the user name of a given email address. Both user names and company names are composed of letters only.\n",
    "\n",
    "**Example:**\n",
    "\n",
    "If the following email address is given as input to the program:\n",
    "\n",
    "`john@google.com`\n",
    "\n",
    "Then, the output of the program should be:\n",
    "\n",
    "``john``"
   ]
  },
  {
   "cell_type": "code",
   "execution_count": 6,
   "id": "ef0bdcd3",
   "metadata": {},
   "outputs": [],
   "source": [
    "def first_name(email):\n",
    "\n",
    "    output = email.split('@')\n",
    "\n",
    "    return output[0]"
   ]
  },
  {
   "cell_type": "code",
   "execution_count": 7,
   "id": "b3f9faad",
   "metadata": {},
   "outputs": [
    {
     "data": {
      "text/plain": [
       "'john'"
      ]
     },
     "execution_count": 7,
     "metadata": {},
     "output_type": "execute_result"
    }
   ],
   "source": [
    "first_name('john@google.com')"
   ]
  },
  {
   "cell_type": "markdown",
   "id": "ab88899c",
   "metadata": {},
   "source": [
    "## Question 5:\n",
    "-----\n",
    "### Define a class named Shape and its subclass Square. The Square class has an init function which takes a length as argument. Both classes have a area function which can print the area of the shape where Shape&#39;s area is 0 by default."
   ]
  },
  {
   "cell_type": "code",
   "execution_count": 8,
   "id": "1a515876",
   "metadata": {},
   "outputs": [],
   "source": [
    "class Shape():\n",
    "    def __init__(self):\n",
    "        pass\n",
    "\n",
    "    def area(self):\n",
    "        return 0\n",
    "\n",
    "class Square(Shape):\n",
    "    def __init__(self,length = 0):\n",
    "        super().__init__()\n",
    "        self.length = length\n",
    "\n",
    "    def area(self):\n",
    "        return self.length * self.length\n",
    "\n"
   ]
  },
  {
   "cell_type": "code",
   "execution_count": 9,
   "id": "648260d3",
   "metadata": {},
   "outputs": [
    {
     "name": "stdout",
     "output_type": "stream",
     "text": [
      "36\n"
     ]
    },
    {
     "data": {
      "text/plain": [
       "0"
      ]
     },
     "execution_count": 9,
     "metadata": {},
     "output_type": "execute_result"
    }
   ],
   "source": [
    "# length argument is passed into Square class\n",
    "A = Square(6)\n",
    "\n",
    "# area method is executed from Square class\n",
    "print(A.area())\n",
    "\n",
    "# area method from parent class\n",
    "Square().area()\n"
   ]
  }
 ],
 "metadata": {
  "kernelspec": {
   "display_name": "Python 3 (ipykernel)",
   "language": "python",
   "name": "python3"
  },
  "language_info": {
   "codemirror_mode": {
    "name": "ipython",
    "version": 3
   },
   "file_extension": ".py",
   "mimetype": "text/x-python",
   "name": "python",
   "nbconvert_exporter": "python",
   "pygments_lexer": "ipython3",
   "version": "3.9.7"
  }
 },
 "nbformat": 4,
 "nbformat_minor": 5
}
