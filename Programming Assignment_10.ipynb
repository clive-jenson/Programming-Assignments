{
 "cells": [
  {
   "cell_type": "markdown",
   "id": "9ef8aeca",
   "metadata": {},
   "source": [
    "# Python Basics - Assignments\n",
    "--------------------------"
   ]
  },
  {
   "cell_type": "markdown",
   "id": "fa04dcfc",
   "metadata": {},
   "source": [
    "### 1. Write a Python program to find sum of elements in list?\n"
   ]
  },
  {
   "cell_type": "code",
   "execution_count": 1,
   "id": "1562df07",
   "metadata": {},
   "outputs": [
    {
     "name": "stdout",
     "output_type": "stream",
     "text": [
      "112\n"
     ]
    }
   ],
   "source": [
    "l1 = [1,2,3,5,6,7,23,53,12]\n",
    "\n",
    "sum = 0\n",
    "for i in l1:\n",
    "    sum = sum + i\n",
    "print(sum)"
   ]
  },
  {
   "cell_type": "markdown",
   "id": "f6c47658",
   "metadata": {},
   "source": [
    "### 2. Write a Python program to Multiply all numbers in the list?\n"
   ]
  },
  {
   "cell_type": "code",
   "execution_count": 2,
   "id": "4e8ae4e0",
   "metadata": {},
   "outputs": [
    {
     "name": "stdout",
     "output_type": "stream",
     "text": [
      "1496880\n"
     ]
    }
   ],
   "source": [
    "l2 = [1,2,3,5,6,7,11,9,12]\n",
    "\n",
    "mul = 1\n",
    "for i in l2:\n",
    "    mul *= i\n",
    "    \n",
    "print(mul)"
   ]
  },
  {
   "cell_type": "markdown",
   "id": "5931117d",
   "metadata": {},
   "source": [
    "### 3. Write a Python program to find smallest number in a list?\n"
   ]
  },
  {
   "cell_type": "code",
   "execution_count": 3,
   "id": "7f2d2329",
   "metadata": {},
   "outputs": [
    {
     "name": "stdout",
     "output_type": "stream",
     "text": [
      "The smallest number in the list is: 3\n"
     ]
    }
   ],
   "source": [
    "l = [5,64,3,5,6,7,23,53,12]\n",
    "\n",
    "min1 = l[0] # Initializing the first element as smallest number\n",
    "\n",
    "for i in range(len(l1)):\n",
    "    if l[i] < min1:  # Comparing with other elements in list\n",
    "        min1 = l[i]  # Updating the smallest number\n",
    "        \n",
    "print('The smallest number in the list is:', min1)"
   ]
  },
  {
   "cell_type": "markdown",
   "id": "127ea5f7",
   "metadata": {},
   "source": [
    "### 4. Write a Python program to find largest number in a list?\n"
   ]
  },
  {
   "cell_type": "code",
   "execution_count": 4,
   "id": "d1f17dfe",
   "metadata": {},
   "outputs": [
    {
     "name": "stdout",
     "output_type": "stream",
     "text": [
      "64\n"
     ]
    }
   ],
   "source": [
    "l = [5,64,3,5,6,7,23,53,12]\n",
    "\n",
    "largest_num = l[0]\n",
    "\n",
    "for i in range(len(l1)):\n",
    "    if l[i] > largest_num :\n",
    "        largest_num  = l[i]\n",
    "        \n",
    "print(largest_num )"
   ]
  },
  {
   "cell_type": "markdown",
   "id": "bda6117a",
   "metadata": {},
   "source": [
    "### 5. Write a Python program to find second largest number in a list?\n"
   ]
  },
  {
   "cell_type": "code",
   "execution_count": 5,
   "id": "160be670",
   "metadata": {},
   "outputs": [
    {
     "name": "stdout",
     "output_type": "stream",
     "text": [
      "The given list is :  [5, 64, 3, 5, 6, 7, 23, 53, 12] \n",
      "\n",
      "The second largest number in the list is 53\n"
     ]
    }
   ],
   "source": [
    "# Given list \n",
    "l = [5,64,3,5,6,7,23,53,12]\n",
    "print('The given list is : ',l,'\\n')\n",
    "\n",
    "largest_num = l[0] \n",
    "\n",
    "for i in range(len(l1)):\n",
    "    if l[i] > largest_num :\n",
    "        largest_num  = l[i]\n",
    "\n",
    "l.remove(largest_num) # Removing the largest number from the list\n",
    "\n",
    "l2 = l # Copy the list \n",
    "\n",
    "# using max function we obtain the second largest number from the given list \n",
    "\n",
    "\n",
    "print('The second largest number in the list is' , max(l2))"
   ]
  },
  {
   "cell_type": "markdown",
   "id": "288386e4",
   "metadata": {},
   "source": [
    "### 6. Write a Python program to find N largest elements from a list?\n"
   ]
  },
  {
   "cell_type": "code",
   "execution_count": 6,
   "id": "38715105",
   "metadata": {},
   "outputs": [
    {
     "name": "stdout",
     "output_type": "stream",
     "text": [
      "Enter the value of N: 4\n",
      "[66, 66, 71, 74]\n"
     ]
    }
   ],
   "source": [
    "list_1 = [32, 71, 24, 66, 66,  30, 74, 5, 3, 16, 59]\n",
    "\n",
    "N = int(input(\"Enter the value of N: \"))\n",
    "list_1.sort()\n",
    "\n",
    "l2 = list_1\n",
    "\n",
    "print(l2[-N:])\n"
   ]
  },
  {
   "cell_type": "markdown",
   "id": "d1280774",
   "metadata": {},
   "source": [
    "### 7. Write a Python program to print even numbers in a list?\n"
   ]
  },
  {
   "cell_type": "code",
   "execution_count": 7,
   "id": "15ddc64d",
   "metadata": {},
   "outputs": [
    {
     "name": "stdout",
     "output_type": "stream",
     "text": [
      "[87, 47, 30, 16, 88, 93, 79, 37, 51, 23] \n",
      "\n",
      "The even numbers in the given list are:  [30, 16, 88]\n"
     ]
    }
   ],
   "source": [
    "import random\n",
    "\n",
    "l = []\n",
    "\n",
    "for i in range(10):\n",
    "    l.append(random.randint(1,100))\n",
    "print(l,'\\n')\n",
    "\n",
    "even_list = []\n",
    "\n",
    "for j in l:\n",
    "    if j % 2 == 0:\n",
    "        even_list.append(j)\n",
    "        \n",
    "print('The even numbers in the given list are: ', even_list)"
   ]
  },
  {
   "cell_type": "markdown",
   "id": "17c42f65",
   "metadata": {},
   "source": [
    "### 8. Write a Python program to print odd numbers in a List?\n"
   ]
  },
  {
   "cell_type": "code",
   "execution_count": 8,
   "id": "36c7fcbd",
   "metadata": {},
   "outputs": [
    {
     "name": "stdout",
     "output_type": "stream",
     "text": [
      "[86, 64, 6, 51, 79, 16, 66, 16, 78, 15] \n",
      "\n",
      "The odd numbers in the given list are:  [51, 79, 15]\n"
     ]
    }
   ],
   "source": [
    "l = []\n",
    "\n",
    "for i in range(10):\n",
    "    l.append(random.randint(1,100))\n",
    "print(l, '\\n')\n",
    "\n",
    "odd_list = []\n",
    "\n",
    "for j in l:\n",
    "    if j % 2 != 0:\n",
    "        odd_list.append(j)\n",
    "print('The odd numbers in the given list are: ', odd_list)"
   ]
  },
  {
   "cell_type": "markdown",
   "id": "63ec439b",
   "metadata": {},
   "source": [
    "### 9. Write a Python program to Remove empty List from List?\n"
   ]
  },
  {
   "cell_type": "code",
   "execution_count": 9,
   "id": "a9d4493a",
   "metadata": {},
   "outputs": [
    {
     "name": "stdout",
     "output_type": "stream",
     "text": [
      "[1, 2, 3, 4, 5, 6, 7, 8, 9]\n"
     ]
    }
   ],
   "source": [
    "sample_list = [1,[],2,3,4,[],5,6,7,[],8,[],9]\n",
    "\n",
    "for i in sample_list:\n",
    "    if i == []:\n",
    "        sample_list.remove(i)\n",
    "        \n",
    "print(sample_list)\n"
   ]
  },
  {
   "cell_type": "markdown",
   "id": "e6cf1d8c",
   "metadata": {},
   "source": [
    "### 10. Write a Python program to Cloning or Copying a list?\n"
   ]
  },
  {
   "cell_type": "code",
   "execution_count": 10,
   "id": "34520951",
   "metadata": {},
   "outputs": [
    {
     "name": "stdout",
     "output_type": "stream",
     "text": [
      "[1, 2, 3, 4, 5, 6, 7, 8, 9, 10]\n",
      "[1, 2, 3, 4, 5, 6, 7, 8, 9, 10]\n"
     ]
    }
   ],
   "source": [
    "import copy \n",
    "\n",
    "li = [1,2,3,4,5,6,7,8,9,10]\n",
    "\n",
    "cp = copy.deepcopy(li)  \n",
    "cp1 = copy.copy(li)  \n",
    "\n",
    "print(cp)\n",
    "print(cp1)\n"
   ]
  },
  {
   "cell_type": "markdown",
   "id": "b3b0f744",
   "metadata": {},
   "source": [
    "### 11. Write a Python program to Count occurrences of an element in a list?"
   ]
  },
  {
   "cell_type": "code",
   "execution_count": 13,
   "id": "34106ce8",
   "metadata": {},
   "outputs": [
    {
     "name": "stdout",
     "output_type": "stream",
     "text": [
      "Enter the number: 6\n",
      "The number of times 6 occurs in the list is 2\n"
     ]
    }
   ],
   "source": [
    "\n",
    "def count_times(l,x):\n",
    "    \n",
    "    count = 0\n",
    "    for item in l:\n",
    "        if item == x:\n",
    "            count+= 1\n",
    "    return count\n",
    "\n",
    "# Input list\n",
    "l = [1,2,3,4,3,3,4,5,5,6,7,5,6]\n",
    "\n",
    "# Enter the number to check for occurrence \n",
    "x = int(input(\"Enter the number: \"))\n",
    "\n",
    "# Result\n",
    "print(f'The number of times {x} occurs in the list is {count_times(l,x)}')\n",
    "\n"
   ]
  }
 ],
 "metadata": {
  "kernelspec": {
   "display_name": "Python 3 (ipykernel)",
   "language": "python",
   "name": "python3"
  },
  "language_info": {
   "codemirror_mode": {
    "name": "ipython",
    "version": 3
   },
   "file_extension": ".py",
   "mimetype": "text/x-python",
   "name": "python",
   "nbconvert_exporter": "python",
   "pygments_lexer": "ipython3",
   "version": "3.9.7"
  }
 },
 "nbformat": 4,
 "nbformat_minor": 5
}
