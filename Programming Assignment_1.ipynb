{
 "cells": [
  {
   "cell_type": "markdown",
   "id": "04b58be6",
   "metadata": {},
   "source": [
    "# Python Basics - Assignments\n",
    "--------------------------"
   ]
  },
  {
   "cell_type": "markdown",
   "id": "41d7d811",
   "metadata": {},
   "source": [
    "### 1. Write a Python program to print &quot;Hello Python&quot;?"
   ]
  },
  {
   "cell_type": "code",
   "execution_count": 1,
   "id": "e44afc62",
   "metadata": {},
   "outputs": [
    {
     "name": "stdout",
     "output_type": "stream",
     "text": [
      "Hello Python\n"
     ]
    }
   ],
   "source": [
    "# Solution 1 \n",
    "print(\"Hello Python\")"
   ]
  },
  {
   "cell_type": "markdown",
   "id": "a244b804",
   "metadata": {},
   "source": [
    "### 2. Write a Python program to do arithmetical operations addition and division.?"
   ]
  },
  {
   "cell_type": "code",
   "execution_count": 2,
   "id": "f0ab5b84",
   "metadata": {},
   "outputs": [
    {
     "name": "stdout",
     "output_type": "stream",
     "text": [
      "6\n",
      "16.0\n"
     ]
    }
   ],
   "source": [
    "# Solution 2\n",
    "\n",
    "'Addition operation' \n",
    "\n",
    "x = -3 \n",
    "y = 9\n",
    "\n",
    "print(x + y )\n",
    "\n",
    "'Division operation'\n",
    "\n",
    "a = 64\n",
    "b = 4\n",
    "\n",
    "print(a/b) # To convert the result to int enclose it with int()\n",
    "\n"
   ]
  },
  {
   "cell_type": "markdown",
   "id": "fc4e31a4",
   "metadata": {},
   "source": [
    "### 3. Write a Python program to find the area of a triangle?\n",
    "The formula for area of a triangle is `(1/2)bh`, where ***b = base , h = height***"
   ]
  },
  {
   "cell_type": "code",
   "execution_count": 3,
   "id": "062c3d81",
   "metadata": {},
   "outputs": [
    {
     "name": "stdout",
     "output_type": "stream",
     "text": [
      "25.0\n"
     ]
    }
   ],
   "source": [
    "# Solution 3\n",
    "\n",
    "base = 10 # in cm \n",
    "height = 5 \n",
    "\n",
    "area = (1/2) * base * height # Area of the given triangle in cm^2\n",
    "\n",
    "print(area) \n"
   ]
  },
  {
   "cell_type": "markdown",
   "id": "082610fc",
   "metadata": {},
   "source": [
    "### 4. Write a Python program to swap two variables?"
   ]
  },
  {
   "cell_type": "code",
   "execution_count": 4,
   "id": "20aca96d",
   "metadata": {},
   "outputs": [
    {
     "name": "stdout",
     "output_type": "stream",
     "text": [
      "7\n",
      "5\n"
     ]
    }
   ],
   "source": [
    "# Solution 4\n",
    "\n",
    "a = 5 # first number\n",
    "b = 7 # second number\n",
    "\n",
    "c = a \n",
    "a = b\n",
    "b = c \n",
    "\n",
    "print(a)\n",
    "print(b)"
   ]
  },
  {
   "cell_type": "markdown",
   "id": "638d6c47",
   "metadata": {},
   "source": [
    "### 5. Write a Python program to generate a random number?"
   ]
  },
  {
   "cell_type": "code",
   "execution_count": 5,
   "id": "b1f678a6",
   "metadata": {},
   "outputs": [
    {
     "data": {
      "text/plain": [
       "62"
      ]
     },
     "execution_count": 5,
     "metadata": {},
     "output_type": "execute_result"
    }
   ],
   "source": [
    "# Solution 5 \n",
    "import random \n",
    "print(random.randint(0,100))"
   ]
  }
 ],
 "metadata": {
  "kernelspec": {
   "display_name": "Python 3 (ipykernel)",
   "language": "python",
   "name": "python3"
  },
  "language_info": {
   "codemirror_mode": {
    "name": "ipython",
    "version": 3
   },
   "file_extension": ".py",
   "mimetype": "text/x-python",
   "name": "python",
   "nbconvert_exporter": "python",
   "pygments_lexer": "ipython3",
   "version": "3.9.7"
  }
 },
 "nbformat": 4,
 "nbformat_minor": 5
}
