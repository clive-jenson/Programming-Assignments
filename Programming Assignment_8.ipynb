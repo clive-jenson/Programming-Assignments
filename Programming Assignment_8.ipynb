{
 "cells": [
  {
   "cell_type": "markdown",
   "id": "9ef8aeca",
   "metadata": {},
   "source": [
    "# Python Basics - Assignments\n",
    "--------------------------"
   ]
  },
  {
   "cell_type": "markdown",
   "id": "80e7d28d",
   "metadata": {},
   "source": [
    "### 1. Write a Python Program to Add Two Matrices?"
   ]
  },
  {
   "cell_type": "code",
   "execution_count": 1,
   "id": "be6572df",
   "metadata": {},
   "outputs": [
    {
     "name": "stdout",
     "output_type": "stream",
     "text": [
      "[-5, 4, 7]\n",
      "[6, 11, 2]\n",
      "[9, 10, 8]\n"
     ]
    }
   ],
   "source": [
    "# Program to add Matrix A and Matrix B\n",
    "\n",
    "A = [[-14,-4,4],\n",
    "    [4 ,6,6],\n",
    "    [6 ,8,12]]\n",
    "\n",
    "B = [[9,8,3],\n",
    "    [2,5,-4],\n",
    "    [3,2,-4]]\n",
    "\n",
    "result = [[0,0,0],\n",
    "         [0,0,0],\n",
    "         [0,0,0]]\n",
    "\n",
    "\n",
    "for i in range(len(A)): # Row iteration\n",
    "   \n",
    "   for j in range(len(A[0])): # column iteration\n",
    "        result[i][j] = A[i][j] + B[i][j]\n",
    "\n",
    "for k in result:\n",
    "    print(k)"
   ]
  },
  {
   "cell_type": "markdown",
   "id": "30a718c5",
   "metadata": {},
   "source": [
    "### 2. Write a Python Program to Multiply Two Matrices?"
   ]
  },
  {
   "cell_type": "code",
   "execution_count": 2,
   "id": "6bd17d4c",
   "metadata": {},
   "outputs": [
    {
     "name": "stdout",
     "output_type": "stream",
     "text": [
      "[30, 24, 18]\n",
      "[84, 69, 54]\n",
      "[138, 114, 90]\n"
     ]
    }
   ],
   "source": [
    "# Multiplication of Matrix A and Matrix B \n",
    "# Condition for Matrix Multiplication is that the number of columns in Matrix 1 should be equal to number of Rows in Matrix 2\n",
    "\n",
    "A = [[1,2,3],\n",
    "    [4 ,5,6],\n",
    "    [7 ,8,9]]\n",
    "\n",
    "B = [[9,8,7],\n",
    "    [6,5,4],\n",
    "    [3,2,1]]\n",
    "\n",
    "result = [[0,0,0],\n",
    "         [0,0,0],\n",
    "         [0,0,0]]\n",
    "\n",
    "\n",
    "for i in range(len(A)): # Row iteration\n",
    "   \n",
    "   for j in range(len(B[0])): # column iteration\n",
    "    \n",
    "          for k in range(len(B)):\n",
    "                result[i][j] += A[i][k] * B[k][j]\n",
    "\n",
    "# Output Matrix\n",
    "for d in result:\n",
    "    print(d)"
   ]
  },
  {
   "cell_type": "markdown",
   "id": "c8f56316",
   "metadata": {},
   "source": [
    "### 3. Write a Python Program to Transpose a Matrix?\n"
   ]
  },
  {
   "cell_type": "code",
   "execution_count": 3,
   "id": "06841ee5",
   "metadata": {},
   "outputs": [
    {
     "name": "stdout",
     "output_type": "stream",
     "text": [
      "[3, 6, 2]\n",
      "[7, 9, 2]\n"
     ]
    }
   ],
   "source": [
    "# Method 1 Using nested for loops\n",
    "\n",
    "X = [[3,7],\n",
    "    [6 ,9],\n",
    "    [2 ,2]]\n",
    "\n",
    "result = [[0,0,0],\n",
    "         [0,0,0]]\n",
    "\n",
    "for i in range(len(X)):\n",
    "    for j in range(len(X[0])):\n",
    "        result[j][i] = X[i][j]\n",
    "    \n",
    "for k in result:\n",
    "    print(k)\n"
   ]
  },
  {
   "cell_type": "code",
   "execution_count": 4,
   "id": "00038293",
   "metadata": {},
   "outputs": [
    {
     "data": {
      "text/plain": [
       "array([[3, 6, 2],\n",
       "       [7, 9, 2]])"
      ]
     },
     "execution_count": 4,
     "metadata": {},
     "output_type": "execute_result"
    }
   ],
   "source": [
    "# Method 2 using numpy module\n",
    "\n",
    "import numpy as np\n",
    "\n",
    "X = [[3,7],\n",
    "    [6 ,9],\n",
    "    [2 ,2]]\n",
    "\n",
    "arr = np.array(X)\n",
    "\n",
    "arr.transpose()"
   ]
  },
  {
   "cell_type": "markdown",
   "id": "d314a970",
   "metadata": {},
   "source": [
    "### 4. Write a Python Program to Sort Words in Alphabetic Order?\n"
   ]
  },
  {
   "cell_type": "code",
   "execution_count": 5,
   "id": "529ae0ba",
   "metadata": {},
   "outputs": [
    {
     "name": "stdout",
     "output_type": "stream",
     "text": [
      "Enter  your sentence: Hey Have a good day and enjoy\n",
      "The sorted words in Alphabetical order are listed below: \n",
      "\n",
      "a\n",
      "and\n",
      "day\n",
      "enjoy\n",
      "good\n",
      "have\n",
      "hey\n"
     ]
    }
   ],
   "source": [
    "string  = input(\"Enter  your sentence: \")\n",
    "\n",
    "words = [i.lower() for i in string.split()]\n",
    "\n",
    "words.sort()\n",
    "\n",
    "print(\"The sorted words in Alphabetical order are listed below: \\n\")\n",
    "for i in words:\n",
    "    print(i)"
   ]
  },
  {
   "cell_type": "markdown",
   "id": "1f689242",
   "metadata": {},
   "source": [
    "### 5. Write a Python Program to Remove Punctuation From a String?"
   ]
  },
  {
   "cell_type": "code",
   "execution_count": 6,
   "id": "819f00b0",
   "metadata": {},
   "outputs": [
    {
     "name": "stdout",
     "output_type": "stream",
     "text": [
      "In each town—London Paris and Rome—we stayed in youth hostels "
     ]
    }
   ],
   "source": [
    "# list of punctuation\n",
    "punctuations = '''!()-[]{};:'\"\\,<>./?@#$%^&*_~'''\n",
    "\n",
    "string = \"In each town—London!!, Paris and Rome—we stayed in youth hostels. ?.<>#@$%!@@\"\n",
    "\n",
    "output = []\n",
    "\n",
    "for i in string:\n",
    "    if i in punctuations:\n",
    "        None\n",
    "    else:\n",
    "        output += i\n",
    "        \n",
    "for i in output:\n",
    "    print(i, end = '')\n",
    "        "
   ]
  }
 ],
 "metadata": {
  "kernelspec": {
   "display_name": "Python 3 (ipykernel)",
   "language": "python",
   "name": "python3"
  },
  "language_info": {
   "codemirror_mode": {
    "name": "ipython",
    "version": 3
   },
   "file_extension": ".py",
   "mimetype": "text/x-python",
   "name": "python",
   "nbconvert_exporter": "python",
   "pygments_lexer": "ipython3",
   "version": "3.9.7"
  }
 },
 "nbformat": 4,
 "nbformat_minor": 5
}
